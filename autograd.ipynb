{
 "cells": [
  {
   "cell_type": "code",
   "execution_count": 1,
   "id": "263d49e3-7549-4641-9a7c-796f280f6995",
   "metadata": {
    "tags": []
   },
   "outputs": [],
   "source": [
    "import math\n",
    "import numpy as np\n",
    "import matplotlib.pyplot as plt\n",
    "%matplotlib inline"
   ]
  },
  {
   "cell_type": "code",
   "execution_count": 2,
   "id": "ddf71bdd-704a-40d3-937c-8b9e5cfa0e22",
   "metadata": {
    "tags": []
   },
   "outputs": [],
   "source": [
    "def f(x):\n",
    "    return 3*x**2 - 4*x + 5"
   ]
  },
  {
   "cell_type": "code",
   "execution_count": 3,
   "id": "c6401d2d-f35e-431d-8305-544fddab2b84",
   "metadata": {
    "tags": []
   },
   "outputs": [
    {
     "data": {
      "text/plain": [
       "20.0"
      ]
     },
     "execution_count": 3,
     "metadata": {},
     "output_type": "execute_result"
    }
   ],
   "source": [
    "f(3.0)\n"
   ]
  },
  {
   "cell_type": "code",
   "execution_count": 4,
   "id": "34ab0d49-65fb-45d8-b4ca-80c932a9a335",
   "metadata": {
    "tags": []
   },
   "outputs": [
    {
     "data": {
      "text/plain": [
       "[<matplotlib.lines.Line2D at 0x7f8e80903100>]"
      ]
     },
     "execution_count": 4,
     "metadata": {},
     "output_type": "execute_result"
    },
    {
     "data": {
      "image/png": "[encoded data removed]",
      "text/plain": [
       "<Figure size 640x480 with 1 Axes>"
      ]
     },
     "metadata": {},
     "output_type": "display_data"
    }
   ],
   "source": [
    "xs = np.arange(-5, 5, 0.25)\n",
    "ys = f(xs)\n",
    "plt.plot(xs, ys)"
   ]
  },
  {
   "cell_type": "code",
   "execution_count": 10,
   "id": "64d8d4c9-fa48-455d-81e3-759ca59bb3a1",
   "metadata": {
    "tags": []
   },
   "outputs": [
    {
     "data": {
      "text/plain": [
       "2.9753977059954195e-07"
      ]
     },
     "execution_count": 10,
     "metadata": {},
     "output_type": "execute_result"
    }
   ],
   "source": [
    "h = 0.0000001\n",
    "x = 2/3\n",
    "(f(x + h) - f(x)) / h"
   ]
  },
  {
   "cell_type": "code",
   "execution_count": 12,
   "id": "d6d9dd01-6d4f-497e-b910-ac71d6df787a",
   "metadata": {
    "tags": []
   },
   "outputs": [
    {
     "name": "stdout",
     "output_type": "stream",
     "text": [
      "4.0\n"
     ]
    }
   ],
   "source": [
    "a = 2.0\n",
    "b = -3.0\n",
    "c = 10.0\n",
    "d = a * b + c\n",
    "print(d)"
   ]
  },
  {
   "cell_type": "code",
   "execution_count": 16,
   "id": "19b40c31-1634-420a-9c3a-0f6c0f73fd23",
   "metadata": {
    "tags": []
   },
   "outputs": [
    {
     "name": "stdout",
     "output_type": "stream",
     "text": [
      "d1 3.999699999999999\n",
      "d2 3.9997999999999987\n",
      "slope 0.9999999999976694\n"
     ]
    }
   ],
   "source": [
    "h = 0.0001\n",
    "\n",
    "b = -3.0\n",
    "c = 10.0\n",
    "d1 = a * b + c\n",
    "c += h\n",
    "d2 = a* b + c\n",
    "\n",
    "print('d1', d1)\n",
    "print('d2', d2)\n",
    "print('slope', (d2 - d1) / h)"
   ]
  },
  {
   "cell_type": "code",
   "execution_count": 207,
   "id": "9d76aaf0-a692-471c-8030-2cf3c75559de",
   "metadata": {
    "tags": []
   },
   "outputs": [
    {
     "data": {
      "text/plain": [
       "Value(data=-8.0)"
      ]
     },
     "execution_count": 207,
     "metadata": {},
     "output_type": "execute_result"
    }
   ],
   "source": [
    "class Value:\n",
    "    def __init__(self, data, _children=(), _op = '', label=''):\n",
    "        self.data = data\n",
    "        self.grad = 0.0\n",
    "        self._backward = lambda: None\n",
    "        self._prev = set(_children)\n",
    "        self._op = _op\n",
    "        self.label = label\n",
    "        \n",
    "    def __repr__(self):\n",
    "        return f\"Value(data={self.data})\"\n",
    "    \n",
    "    def __add__(self, other):\n",
    "        other = other if isinstance(other, Value) else Value(other)\n",
    "        out = Value(self.data + other.data, (self, other), '+')\n",
    "        \n",
    "        def _backward():\n",
    "            self.grad += 1.0 * out.grad\n",
    "            other.grad += 1.0 * out.grad\n",
    "        out._backward = _backward\n",
    "        \n",
    "        return out\n",
    "    \n",
    "    def __mul__(self, other):\n",
    "        other = other if isinstance(other, Value) else Value(other)\n",
    "        out = Value(self.data * other.data, (self, other), '*')\n",
    "        \n",
    "        def _backward():\n",
    "            self.grad += other.data * out.grad\n",
    "            other.grad += self.data * out.grad\n",
    "        out._backward = _backward\n",
    "        return out\n",
    "    \n",
    "    def __rmul__(self, other):\n",
    "        return self * other\n",
    "    \n",
    "    def __radd__(self, other):\n",
    "        return self + other\n",
    "    \n",
    "    def __pow__(self, other):\n",
    "        assert isinstance(other, (int, float)), \"only support int/float\"\n",
    "        out = Value(self.data**other, (self,), f'**{other}')\n",
    "        def _backward():\n",
    "            self.grad = other * (self.data**(other -1)) * out.grad\n",
    "        out._backward = _backward\n",
    "        return out\n",
    "    \n",
    "    def __truediv__(self, other):\n",
    "        return self * (other**-1)\n",
    "    \n",
    "    def __sub__(self, other):\n",
    "        return self + (-1 * other)\n",
    "    \n",
    "    def __neg__(self):\n",
    "        return self * -1\n",
    "    \n",
    "    def tanh(self):\n",
    "        n = self.data\n",
    "        t = (math.exp(2*n) - 1) / (math.exp(2*n) + 1)\n",
    "        out = Value(t, (self,), 'tanh')\n",
    "        \n",
    "        def _backward():\n",
    "            self.grad += (1 - t**2) * out.grad\n",
    "        out._backward = _backward\n",
    "        return out\n",
    "    \n",
    "    def exp(self):\n",
    "        x = self.data\n",
    "        out = Value(math.exp(x), (self,), 'exp')\n",
    "        \n",
    "        def _backward():\n",
    "            self.grad += out.data * out.grad\n",
    "        out._backward = _backward\n",
    "        return out\n",
    "    \n",
    "    def backward(self):\n",
    "        topo = []\n",
    "        visited = set()\n",
    "\n",
    "        def build(v):\n",
    "            if v not in visited:\n",
    "                visited.add(v)\n",
    "                for c in v._prev:\n",
    "                    build(c)\n",
    "                topo.append(v)\n",
    "\n",
    "        build(self)\n",
    "        self.grad = 1.0\n",
    "        for node in reversed(topo):\n",
    "            node._backward()\n",
    "\n",
    "    \n",
    "a = Value(2.0, label='a')\n",
    "b = Value(-3.0, label='b')\n",
    "c = Value(10., label='c')\n",
    "e = a*b; e.label = 'e'\n",
    "d = e + c; d.label='d'\n",
    "f = Value(-2.0, label = 'f')\n",
    "L = d * f; L.label = 'L'\n",
    "L"
   ]
  },
  {
   "cell_type": "code",
   "execution_count": 183,
   "id": "e5cb2fb3-66aa-4fac-9766-4600c7042c3e",
   "metadata": {
    "tags": []
   },
   "outputs": [
    {
     "data": {
      "text/plain": [
       "Value(data=2)"
      ]
     },
     "execution_count": 183,
     "metadata": {},
     "output_type": "execute_result"
    }
   ],
   "source": [
    "a = Value(2)\n",
    "a - 2\n",
    "a - (a - 2)"
   ]
  },
  {
   "cell_type": "code",
   "execution_count": 43,
   "id": "7f340a1c-15c4-42ab-8ccd-a996f1ae82fe",
   "metadata": {
    "tags": []
   },
   "outputs": [
    {
     "data": {
      "text/plain": [
       "'+'"
      ]
     },
     "execution_count": 43,
     "metadata": {},
     "output_type": "execute_result"
    }
   ],
   "source": [
    "d._op"
   ]
  },
  {
   "cell_type": "code",
   "execution_count": 28,
   "id": "6f7dff22-2e2f-4249-86aa-cec78e8a00bd",
   "metadata": {
    "tags": []
   },
   "outputs": [],
   "source": [
    "\n",
    "from graphviz import Digraph"
   ]
  },
  {
   "cell_type": "code",
   "execution_count": 29,
   "id": "a2edba88-e70e-4892-a49c-1c66549383f7",
   "metadata": {
    "tags": []
   },
   "outputs": [],
   "source": [
    "def trace(root):\n",
    "    nodes, edges = set(), set()\n",
    "    def build(v):\n",
    "        if v not in nodes:\n",
    "            nodes.add(v)\n",
    "            for child in v._prev:\n",
    "                edges.add((child, v))\n",
    "                build(child)\n",
    "    build(root)\n",
    "    return nodes, edges\n"
   ]
  },
  {
   "cell_type": "code",
   "execution_count": 39,
   "id": "a4259e01-8b3c-481a-85ff-2596df903350",
   "metadata": {
    "tags": []
   },
   "outputs": [],
   "source": [
    "def draw_dot(root):\n",
    "    dot = Digraph(format='svg', graph_attr={'rankdir': 'LR'})\n",
    "    nodes, edges = trace(root)\n",
    "    for n in nodes:\n",
    "        uid = str(id(n))\n",
    "        dot.node(name=uid, label=\"{ %s | data %.4f | grad %.4f }\" % (n.label, n.data, n.grad, ), shape='record')\n",
    "        if n._op:\n",
    "            dot.node(name = uid + n._op, label = n._op)\n",
    "            dot.edge(uid + n._op, uid)\n",
    "                     \n",
    "    for n1, n2 in edges:\n",
    "        dot.edge(str(id(n1)), str(id(n2)) + n2._op)\n",
    "    \n",
    "    return dot"
   ]
  },
  {
   "cell_type": "code",
   "execution_count": 77,
   "id": "ed5babf0-7f6f-4756-9249-0eba854741bd",
   "metadata": {
    "tags": []
   },
   "outputs": [
    {
     "data": {
      "image/svg+xml": [
       "<?xml version=\"1.0\" encoding=\"UTF-8\" standalone=\"no\"?>\n",
       "<!DOCTYPE svg PUBLIC \"-//W3C//DTD SVG 1.1//EN\"\n",
       " \"http://www.w3.org/Graphics/SVG/1.1/DTD/svg11.dtd\">\n",
       "<!-- Generated by graphviz version 7.1.0 (20230121.1956)\n",
       " -->\n",
       "<!-- Pages: 1 -->\n",
       "<svg width=\"1151pt\" height=\"128pt\"\n",
       " viewBox=\"0.00 0.00 1151.00 128.00\" xmlns=\"http://www.w3.org/2000/svg\" xmlns:xlink=\"http://www.w3.org/1999/xlink\">\n",
       "<g id=\"graph0\" class=\"graph\" transform=\"scale(1 1) rotate(0) translate(4 124)\">\n",
       "<polygon fill=\"white\" stroke=\"none\" points=\"-4,4 -4,-124 1147,-124 1147,4 -4,4\"/>\n",
       "<!-- 140249346993168 -->\n",
       "<g id=\"node1\" class=\"node\">\n",
       "<title>140249346993168</title>\n",
       "<polygon fill=\"none\" stroke=\"black\" points=\"956,-54.5 956,-90.5 1143,-90.5 1143,-54.5 956,-54.5\"/>\n",
       "<text text-anchor=\"middle\" x=\"966\" y=\"-68.8\" font-family=\"Times,serif\" font-size=\"14.00\"> </text>\n",
       "<polyline fill=\"none\" stroke=\"black\" points=\"976,-54.5 976,-90.5\"/>\n",
       "<text text-anchor=\"middle\" x=\"1018.5\" y=\"-68.8\" font-family=\"Times,serif\" font-size=\"14.00\">data &#45;8.0000</text>\n",
       "<polyline fill=\"none\" stroke=\"black\" points=\"1061,-54.5 1061,-90.5\"/>\n",
       "<text text-anchor=\"middle\" x=\"1102\" y=\"-68.8\" font-family=\"Times,serif\" font-size=\"14.00\">grad 1.0000</text>\n",
       "</g>\n",
       "<!-- 140249346993168* -->\n",
       "<g id=\"node2\" class=\"node\">\n",
       "<title>140249346993168*</title>\n",
       "<ellipse fill=\"none\" stroke=\"black\" cx=\"893\" cy=\"-72.5\" rx=\"27\" ry=\"18\"/>\n",
       "<text text-anchor=\"middle\" x=\"893\" y=\"-68.8\" font-family=\"Times,serif\" font-size=\"14.00\">*</text>\n",
       "</g>\n",
       "<!-- 140249346993168*&#45;&gt;140249346993168 -->\n",
       "<g id=\"edge1\" class=\"edge\">\n",
       "<title>140249346993168*&#45;&gt;140249346993168</title>\n",
       "<path fill=\"none\" stroke=\"black\" d=\"M920.21,-72.5C927.47,-72.5 935.83,-72.5 944.71,-72.5\"/>\n",
       "<polygon fill=\"black\" stroke=\"black\" points=\"944.7,-76 954.7,-72.5 944.7,-69 944.7,-76\"/>\n",
       "</g>\n",
       "<!-- 140249346992208 -->\n",
       "<g id=\"node3\" class=\"node\">\n",
       "<title>140249346992208</title>\n",
       "<polygon fill=\"none\" stroke=\"black\" points=\"0,-83.5 0,-119.5 194,-119.5 194,-83.5 0,-83.5\"/>\n",
       "<text text-anchor=\"middle\" x=\"11.5\" y=\"-97.8\" font-family=\"Times,serif\" font-size=\"14.00\">b</text>\n",
       "<polyline fill=\"none\" stroke=\"black\" points=\"23,-83.5 23,-119.5\"/>\n",
       "<text text-anchor=\"middle\" x=\"65.5\" y=\"-97.8\" font-family=\"Times,serif\" font-size=\"14.00\">data &#45;3.0000</text>\n",
       "<polyline fill=\"none\" stroke=\"black\" points=\"108,-83.5 108,-119.5\"/>\n",
       "<text text-anchor=\"middle\" x=\"151\" y=\"-97.8\" font-family=\"Times,serif\" font-size=\"14.00\">grad &#45;4.0000</text>\n",
       "</g>\n",
       "<!-- 140249346990480* -->\n",
       "<g id=\"node9\" class=\"node\">\n",
       "<title>140249346990480*</title>\n",
       "<ellipse fill=\"none\" stroke=\"black\" cx=\"257\" cy=\"-73.5\" rx=\"27\" ry=\"18\"/>\n",
       "<text text-anchor=\"middle\" x=\"257\" y=\"-69.8\" font-family=\"Times,serif\" font-size=\"14.00\">*</text>\n",
       "</g>\n",
       "<!-- 140249346992208&#45;&gt;140249346990480* -->\n",
       "<g id=\"edge7\" class=\"edge\">\n",
       "<title>140249346992208&#45;&gt;140249346990480*</title>\n",
       "<path fill=\"none\" stroke=\"black\" d=\"M193.55,-84.57C202.53,-82.98 211.21,-81.44 219.1,-80.04\"/>\n",
       "<polygon fill=\"black\" stroke=\"black\" points=\"219.67,-83.49 228.9,-78.3 218.45,-76.6 219.67,-83.49\"/>\n",
       "</g>\n",
       "<!-- 140249347002528 -->\n",
       "<g id=\"node4\" class=\"node\">\n",
       "<title>140249347002528</title>\n",
       "<polygon fill=\"none\" stroke=\"black\" points=\"642,-82.5 642,-118.5 830,-118.5 830,-82.5 642,-82.5\"/>\n",
       "<text text-anchor=\"middle\" x=\"652.5\" y=\"-96.8\" font-family=\"Times,serif\" font-size=\"14.00\">f</text>\n",
       "<polyline fill=\"none\" stroke=\"black\" points=\"663,-82.5 663,-118.5\"/>\n",
       "<text text-anchor=\"middle\" x=\"705.5\" y=\"-96.8\" font-family=\"Times,serif\" font-size=\"14.00\">data &#45;2.0000</text>\n",
       "<polyline fill=\"none\" stroke=\"black\" points=\"748,-82.5 748,-118.5\"/>\n",
       "<text text-anchor=\"middle\" x=\"789\" y=\"-96.8\" font-family=\"Times,serif\" font-size=\"14.00\">grad 4.0000</text>\n",
       "</g>\n",
       "<!-- 140249347002528&#45;&gt;140249346993168* -->\n",
       "<g id=\"edge8\" class=\"edge\">\n",
       "<title>140249347002528&#45;&gt;140249346993168*</title>\n",
       "<path fill=\"none\" stroke=\"black\" d=\"M829.85,-83.73C838.75,-82.12 847.38,-80.56 855.22,-79.14\"/>\n",
       "<polygon fill=\"black\" stroke=\"black\" points=\"855.76,-82.6 864.98,-77.38 854.52,-75.71 855.76,-82.6\"/>\n",
       "</g>\n",
       "<!-- 140249346991872 -->\n",
       "<g id=\"node5\" class=\"node\">\n",
       "<title>140249346991872</title>\n",
       "<polygon fill=\"none\" stroke=\"black\" points=\"643,-27.5 643,-63.5 829,-63.5 829,-27.5 643,-27.5\"/>\n",
       "<text text-anchor=\"middle\" x=\"653\" y=\"-41.8\" font-family=\"Times,serif\" font-size=\"14.00\"> </text>\n",
       "<polyline fill=\"none\" stroke=\"black\" points=\"663,-27.5 663,-63.5\"/>\n",
       "<text text-anchor=\"middle\" x=\"703\" y=\"-41.8\" font-family=\"Times,serif\" font-size=\"14.00\">data 4.0000</text>\n",
       "<polyline fill=\"none\" stroke=\"black\" points=\"743,-27.5 743,-63.5\"/>\n",
       "<text text-anchor=\"middle\" x=\"786\" y=\"-41.8\" font-family=\"Times,serif\" font-size=\"14.00\">grad &#45;2.0000</text>\n",
       "</g>\n",
       "<!-- 140249346991872&#45;&gt;140249346993168* -->\n",
       "<g id=\"edge6\" class=\"edge\">\n",
       "<title>140249346991872&#45;&gt;140249346993168*</title>\n",
       "<path fill=\"none\" stroke=\"black\" d=\"M828.96,-61.52C838.15,-63.12 847.07,-64.67 855.16,-66.08\"/>\n",
       "<polygon fill=\"black\" stroke=\"black\" points=\"854.42,-69.51 864.87,-67.77 855.62,-62.61 854.42,-69.51\"/>\n",
       "</g>\n",
       "<!-- 140249346991872+ -->\n",
       "<g id=\"node6\" class=\"node\">\n",
       "<title>140249346991872+</title>\n",
       "<ellipse fill=\"none\" stroke=\"black\" cx=\"579\" cy=\"-45.5\" rx=\"27\" ry=\"18\"/>\n",
       "<text text-anchor=\"middle\" x=\"579\" y=\"-41.8\" font-family=\"Times,serif\" font-size=\"14.00\">+</text>\n",
       "</g>\n",
       "<!-- 140249346991872+&#45;&gt;140249346991872 -->\n",
       "<g id=\"edge2\" class=\"edge\">\n",
       "<title>140249346991872+&#45;&gt;140249346991872</title>\n",
       "<path fill=\"none\" stroke=\"black\" d=\"M606.29,-45.5C613.79,-45.5 622.43,-45.5 631.63,-45.5\"/>\n",
       "<polygon fill=\"black\" stroke=\"black\" points=\"631.56,-49 641.56,-45.5 631.56,-42 631.56,-49\"/>\n",
       "</g>\n",
       "<!-- 140249346992976 -->\n",
       "<g id=\"node7\" class=\"node\">\n",
       "<title>140249346992976</title>\n",
       "<polygon fill=\"none\" stroke=\"black\" points=\"4.5,-28.5 4.5,-64.5 189.5,-64.5 189.5,-28.5 4.5,-28.5\"/>\n",
       "<text text-anchor=\"middle\" x=\"16\" y=\"-42.8\" font-family=\"Times,serif\" font-size=\"14.00\">a</text>\n",
       "<polyline fill=\"none\" stroke=\"black\" points=\"27.5,-28.5 27.5,-64.5\"/>\n",
       "<text text-anchor=\"middle\" x=\"67.5\" y=\"-42.8\" font-family=\"Times,serif\" font-size=\"14.00\">data 2.0000</text>\n",
       "<polyline fill=\"none\" stroke=\"black\" points=\"107.5,-28.5 107.5,-64.5\"/>\n",
       "<text text-anchor=\"middle\" x=\"148.5\" y=\"-42.8\" font-family=\"Times,serif\" font-size=\"14.00\">grad 6.0000</text>\n",
       "</g>\n",
       "<!-- 140249346992976&#45;&gt;140249346990480* -->\n",
       "<g id=\"edge9\" class=\"edge\">\n",
       "<title>140249346992976&#45;&gt;140249346990480*</title>\n",
       "<path fill=\"none\" stroke=\"black\" d=\"M189.45,-62.13C199.89,-63.91 210.03,-65.64 219.12,-67.2\"/>\n",
       "<polygon fill=\"black\" stroke=\"black\" points=\"218.46,-70.64 228.91,-68.87 219.64,-63.74 218.46,-70.64\"/>\n",
       "</g>\n",
       "<!-- 140249346990480 -->\n",
       "<g id=\"node8\" class=\"node\">\n",
       "<title>140249346990480</title>\n",
       "<polygon fill=\"none\" stroke=\"black\" points=\"322.5,-55.5 322.5,-91.5 513.5,-91.5 513.5,-55.5 322.5,-55.5\"/>\n",
       "<text text-anchor=\"middle\" x=\"332.5\" y=\"-69.8\" font-family=\"Times,serif\" font-size=\"14.00\"> </text>\n",
       "<polyline fill=\"none\" stroke=\"black\" points=\"342.5,-55.5 342.5,-91.5\"/>\n",
       "<text text-anchor=\"middle\" x=\"385\" y=\"-69.8\" font-family=\"Times,serif\" font-size=\"14.00\">data &#45;6.0000</text>\n",
       "<polyline fill=\"none\" stroke=\"black\" points=\"427.5,-55.5 427.5,-91.5\"/>\n",
       "<text text-anchor=\"middle\" x=\"470.5\" y=\"-69.8\" font-family=\"Times,serif\" font-size=\"14.00\">grad &#45;2.0000</text>\n",
       "</g>\n",
       "<!-- 140249346990480&#45;&gt;140249346991872+ -->\n",
       "<g id=\"edge5\" class=\"edge\">\n",
       "<title>140249346990480&#45;&gt;140249346991872+</title>\n",
       "<path fill=\"none\" stroke=\"black\" d=\"M513.33,-56.89C523.26,-55.14 532.87,-53.45 541.51,-51.93\"/>\n",
       "<polygon fill=\"black\" stroke=\"black\" points=\"541.9,-55.41 551.14,-50.23 540.68,-48.52 541.9,-55.41\"/>\n",
       "</g>\n",
       "<!-- 140249346990480*&#45;&gt;140249346990480 -->\n",
       "<g id=\"edge3\" class=\"edge\">\n",
       "<title>140249346990480*&#45;&gt;140249346990480</title>\n",
       "<path fill=\"none\" stroke=\"black\" d=\"M284.26,-73.5C292.2,-73.5 301.46,-73.5 311.33,-73.5\"/>\n",
       "<polygon fill=\"black\" stroke=\"black\" points=\"311.17,-77 321.17,-73.5 311.17,-70 311.17,-77\"/>\n",
       "</g>\n",
       "<!-- 140249346993648 -->\n",
       "<g id=\"node10\" class=\"node\">\n",
       "<title>140249346993648</title>\n",
       "<polygon fill=\"none\" stroke=\"black\" points=\"320,-0.5 320,-36.5 516,-36.5 516,-0.5 320,-0.5\"/>\n",
       "<text text-anchor=\"middle\" x=\"331.5\" y=\"-14.8\" font-family=\"Times,serif\" font-size=\"14.00\">c</text>\n",
       "<polyline fill=\"none\" stroke=\"black\" points=\"343,-0.5 343,-36.5\"/>\n",
       "<text text-anchor=\"middle\" x=\"386.5\" y=\"-14.8\" font-family=\"Times,serif\" font-size=\"14.00\">data 10.0000</text>\n",
       "<polyline fill=\"none\" stroke=\"black\" points=\"430,-0.5 430,-36.5\"/>\n",
       "<text text-anchor=\"middle\" x=\"473\" y=\"-14.8\" font-family=\"Times,serif\" font-size=\"14.00\">grad &#45;2.0000</text>\n",
       "</g>\n",
       "<!-- 140249346993648&#45;&gt;140249346991872+ -->\n",
       "<g id=\"edge4\" class=\"edge\">\n",
       "<title>140249346993648&#45;&gt;140249346991872+</title>\n",
       "<path fill=\"none\" stroke=\"black\" d=\"M515.62,-34.91C524.6,-36.43 533.27,-37.9 541.15,-39.24\"/>\n",
       "<polygon fill=\"black\" stroke=\"black\" points=\"540.51,-42.68 550.95,-40.91 541.68,-35.78 540.51,-42.68\"/>\n",
       "</g>\n",
       "</g>\n",
       "</svg>\n"
      ],
      "text/plain": [
       "<graphviz.graphs.Digraph at 0x7f8e60e5de50>"
      ]
     },
     "execution_count": 77,
     "metadata": {},
     "output_type": "execute_result"
    }
   ],
   "source": [
    "L.grad = 1.0\n",
    "f.grad = 4.0\n",
    "d.grad = -2.0\n",
    "e.grad = -2.0\n",
    "c.grad = -2.0\n",
    "a.grad = -3.0 * -2.0\n",
    "b.grad = 2 * -2.0\n",
    "draw_dot(L)"
   ]
  },
  {
   "cell_type": "code",
   "execution_count": 78,
   "id": "7c52b8fa-b28f-443f-a249-2e31e0a54ccf",
   "metadata": {},
   "outputs": [
    {
     "name": "stdout",
     "output_type": "stream",
     "text": [
      "-7.286496\n"
     ]
    }
   ],
   "source": [
    "a.data += 0.01 * a.grad\n",
    "b.data += 0.01 * b.grad\n",
    "c.data += 0.01 * c.grad\n",
    "f.data += 0.01 * f.grad\n",
    "\n",
    "e = a * b\n",
    "d = e + c\n",
    "L = d * f\n",
    "\n",
    "print(L.data)"
   ]
  },
  {
   "cell_type": "code",
   "execution_count": 71,
   "id": "eb53a972-c9fe-416d-a410-b4860b7915a0",
   "metadata": {},
   "outputs": [
    {
     "name": "stdout",
     "output_type": "stream",
     "text": [
      "-4.000000000008441\n"
     ]
    }
   ],
   "source": [
    "def lol():\n",
    "    a = Value(2.0, label='a')\n",
    "    b = Value(-3.0, label='b')\n",
    "    c = Value(10., label='c')\n",
    "    e = a*b; e.label = 'e'\n",
    "    d = e + c; d.lable='d'\n",
    "    f = Value(-2.0, label = 'f')\n",
    "    L = d * f; L.label = 'L'\n",
    "    L1 = L.data\n",
    "    \n",
    "    h = 0.0001\n",
    "    \n",
    "    a = Value(2.0, label='a')\n",
    "    b = Value(-3.0 + h, label='b')\n",
    "    c = Value(10.0, label='c')\n",
    "    e = a*b; e.label = 'e'\n",
    "    e.data\n",
    "    d = e + c; d.lable='d'\n",
    "    d.data \n",
    "    f = Value(-2.0, label = 'f')\n",
    "    L = d * f; L.label = 'L'\n",
    "    L2 = L.data \n",
    "    \n",
    "    print((L2 - L1)/h)\n",
    "    \n",
    "lol()"
   ]
  },
  {
   "cell_type": "code",
   "execution_count": 184,
   "id": "5b2ff08f-6d68-4d72-8b3e-fd6e5d46cc3e",
   "metadata": {
    "tags": []
   },
   "outputs": [],
   "source": [
    "x1 = Value(2.0, label='x1')\n",
    "x2 = Value(0.0, label='x2')\n",
    "w1 = Value(-3.0, label='w1')\n",
    "w2 = Value(1.0, label='w2')\n",
    "b = Value(6.8813735870195432, label='b')\n",
    "\n",
    "x1w1 = x1*w1; x1w1.label = 'x1*w1'\n",
    "x2w2 = x2*w2; x2w2.label = 'x2*w2'\n",
    "x1w1x2w2 = x1w1 + x2w2; x1w1x2w2.label = 'x1*w1 + x2*w2'\n",
    "n = x1w1x2w2 + b; n.label = 'n'\n",
    "o = n.tanh(); o.label = 'o'\n",
    "o.backward()"
   ]
  },
  {
   "cell_type": "code",
   "execution_count": 185,
   "id": "2267d3f0-7068-4168-8e44-c827e9325a3f",
   "metadata": {
    "tags": []
   },
   "outputs": [
    {
     "data": {
      "image/svg+xml": [
       "<?xml version=\"1.0\" encoding=\"UTF-8\" standalone=\"no\"?>\n",
       "<!DOCTYPE svg PUBLIC \"-//W3C//DTD SVG 1.1//EN\"\n",
       " \"http://www.w3.org/Graphics/SVG/1.1/DTD/svg11.dtd\">\n",
       "<!-- Generated by graphviz version 7.1.0 (20230121.1956)\n",
       " -->\n",
       "<!-- Pages: 1 -->\n",
       "<svg width=\"1575pt\" height=\"210pt\"\n",
       " viewBox=\"0.00 0.00 1575.00 210.00\" xmlns=\"http://www.w3.org/2000/svg\" xmlns:xlink=\"http://www.w3.org/1999/xlink\">\n",
       "<g id=\"graph0\" class=\"graph\" transform=\"scale(1 1) rotate(0) translate(4 206)\">\n",
       "<polygon fill=\"white\" stroke=\"none\" points=\"-4,4 -4,-206 1571,-206 1571,4 -4,4\"/>\n",
       "<!-- 140249488076912 -->\n",
       "<g id=\"node1\" class=\"node\">\n",
       "<title>140249488076912</title>\n",
       "<polygon fill=\"none\" stroke=\"black\" points=\"1382,-109.5 1382,-145.5 1567,-145.5 1567,-109.5 1382,-109.5\"/>\n",
       "<text text-anchor=\"middle\" x=\"1393.5\" y=\"-123.8\" font-family=\"Times,serif\" font-size=\"14.00\">o</text>\n",
       "<polyline fill=\"none\" stroke=\"black\" points=\"1405,-109.5 1405,-145.5\"/>\n",
       "<text text-anchor=\"middle\" x=\"1445\" y=\"-123.8\" font-family=\"Times,serif\" font-size=\"14.00\">data 0.7071</text>\n",
       "<polyline fill=\"none\" stroke=\"black\" points=\"1485,-109.5 1485,-145.5\"/>\n",
       "<text text-anchor=\"middle\" x=\"1526\" y=\"-123.8\" font-family=\"Times,serif\" font-size=\"14.00\">grad 1.0000</text>\n",
       "</g>\n",
       "<!-- 140249488076912tanh -->\n",
       "<g id=\"node2\" class=\"node\">\n",
       "<title>140249488076912tanh</title>\n",
       "<ellipse fill=\"none\" stroke=\"black\" cx=\"1319\" cy=\"-127.5\" rx=\"27\" ry=\"18\"/>\n",
       "<text text-anchor=\"middle\" x=\"1319\" y=\"-123.8\" font-family=\"Times,serif\" font-size=\"14.00\">tanh</text>\n",
       "</g>\n",
       "<!-- 140249488076912tanh&#45;&gt;140249488076912 -->\n",
       "<g id=\"edge1\" class=\"edge\">\n",
       "<title>140249488076912tanh&#45;&gt;140249488076912</title>\n",
       "<path fill=\"none\" stroke=\"black\" d=\"M1346.39,-127.5C1353.62,-127.5 1361.92,-127.5 1370.74,-127.5\"/>\n",
       "<polygon fill=\"black\" stroke=\"black\" points=\"1370.64,-131 1380.64,-127.5 1370.64,-124 1370.64,-131\"/>\n",
       "</g>\n",
       "<!-- 140249488079984 -->\n",
       "<g id=\"node3\" class=\"node\">\n",
       "<title>140249488079984</title>\n",
       "<polygon fill=\"none\" stroke=\"black\" points=\"328.5,-110.5 328.5,-146.5 543.5,-146.5 543.5,-110.5 328.5,-110.5\"/>\n",
       "<text text-anchor=\"middle\" x=\"355\" y=\"-124.8\" font-family=\"Times,serif\" font-size=\"14.00\">x2*w2</text>\n",
       "<polyline fill=\"none\" stroke=\"black\" points=\"381.5,-110.5 381.5,-146.5\"/>\n",
       "<text text-anchor=\"middle\" x=\"421.5\" y=\"-124.8\" font-family=\"Times,serif\" font-size=\"14.00\">data 0.0000</text>\n",
       "<polyline fill=\"none\" stroke=\"black\" points=\"461.5,-110.5 461.5,-146.5\"/>\n",
       "<text text-anchor=\"middle\" x=\"502.5\" y=\"-124.8\" font-family=\"Times,serif\" font-size=\"14.00\">grad 0.5000</text>\n",
       "</g>\n",
       "<!-- 140249488077584+ -->\n",
       "<g id=\"node11\" class=\"node\">\n",
       "<title>140249488077584+</title>\n",
       "<ellipse fill=\"none\" stroke=\"black\" cx=\"609\" cy=\"-100.5\" rx=\"27\" ry=\"18\"/>\n",
       "<text text-anchor=\"middle\" x=\"609\" y=\"-96.8\" font-family=\"Times,serif\" font-size=\"14.00\">+</text>\n",
       "</g>\n",
       "<!-- 140249488079984&#45;&gt;140249488077584+ -->\n",
       "<g id=\"edge14\" class=\"edge\">\n",
       "<title>140249488079984&#45;&gt;140249488077584+</title>\n",
       "<path fill=\"none\" stroke=\"black\" d=\"M543.35,-111.09C553.14,-109.48 562.54,-107.94 570.99,-106.56\"/>\n",
       "<polygon fill=\"black\" stroke=\"black\" points=\"571.46,-110.03 580.76,-104.96 570.33,-103.12 571.46,-110.03\"/>\n",
       "</g>\n",
       "<!-- 140249488079984* -->\n",
       "<g id=\"node4\" class=\"node\">\n",
       "<title>140249488079984*</title>\n",
       "<ellipse fill=\"none\" stroke=\"black\" cx=\"263\" cy=\"-128.5\" rx=\"27\" ry=\"18\"/>\n",
       "<text text-anchor=\"middle\" x=\"263\" y=\"-124.8\" font-family=\"Times,serif\" font-size=\"14.00\">*</text>\n",
       "</g>\n",
       "<!-- 140249488079984*&#45;&gt;140249488079984 -->\n",
       "<g id=\"edge2\" class=\"edge\">\n",
       "<title>140249488079984*&#45;&gt;140249488079984</title>\n",
       "<path fill=\"none\" stroke=\"black\" d=\"M290.34,-128.5C298.24,-128.5 307.46,-128.5 317.34,-128.5\"/>\n",
       "<polygon fill=\"black\" stroke=\"black\" points=\"317.24,-132 327.24,-128.5 317.24,-125 317.24,-132\"/>\n",
       "</g>\n",
       "<!-- 140249488080512 -->\n",
       "<g id=\"node5\" class=\"node\">\n",
       "<title>140249488080512</title>\n",
       "<polygon fill=\"none\" stroke=\"black\" points=\"4,-165.5 4,-201.5 196,-201.5 196,-165.5 4,-165.5\"/>\n",
       "<text text-anchor=\"middle\" x=\"19\" y=\"-179.8\" font-family=\"Times,serif\" font-size=\"14.00\">x2</text>\n",
       "<polyline fill=\"none\" stroke=\"black\" points=\"34,-165.5 34,-201.5\"/>\n",
       "<text text-anchor=\"middle\" x=\"74\" y=\"-179.8\" font-family=\"Times,serif\" font-size=\"14.00\">data 0.0000</text>\n",
       "<polyline fill=\"none\" stroke=\"black\" points=\"114,-165.5 114,-201.5\"/>\n",
       "<text text-anchor=\"middle\" x=\"155\" y=\"-179.8\" font-family=\"Times,serif\" font-size=\"14.00\">grad 0.5000</text>\n",
       "</g>\n",
       "<!-- 140249488080512&#45;&gt;140249488079984* -->\n",
       "<g id=\"edge8\" class=\"edge\">\n",
       "<title>140249488080512&#45;&gt;140249488079984*</title>\n",
       "<path fill=\"none\" stroke=\"black\" d=\"M172.27,-165.52C181.67,-162.72 191.12,-159.7 200,-156.5 210.09,-152.87 220.83,-148.29 230.48,-143.89\"/>\n",
       "<polygon fill=\"black\" stroke=\"black\" points=\"231.87,-147.11 239.45,-139.71 228.91,-140.76 231.87,-147.11\"/>\n",
       "</g>\n",
       "<!-- 140249488078496 -->\n",
       "<g id=\"node6\" class=\"node\">\n",
       "<title>140249488078496</title>\n",
       "<polygon fill=\"none\" stroke=\"black\" points=\"2.5,-110.5 2.5,-146.5 197.5,-146.5 197.5,-110.5 2.5,-110.5\"/>\n",
       "<text text-anchor=\"middle\" x=\"19\" y=\"-124.8\" font-family=\"Times,serif\" font-size=\"14.00\">w2</text>\n",
       "<polyline fill=\"none\" stroke=\"black\" points=\"35.5,-110.5 35.5,-146.5\"/>\n",
       "<text text-anchor=\"middle\" x=\"75.5\" y=\"-124.8\" font-family=\"Times,serif\" font-size=\"14.00\">data 1.0000</text>\n",
       "<polyline fill=\"none\" stroke=\"black\" points=\"115.5,-110.5 115.5,-146.5\"/>\n",
       "<text text-anchor=\"middle\" x=\"156.5\" y=\"-124.8\" font-family=\"Times,serif\" font-size=\"14.00\">grad 0.0000</text>\n",
       "</g>\n",
       "<!-- 140249488078496&#45;&gt;140249488079984* -->\n",
       "<g id=\"edge13\" class=\"edge\">\n",
       "<title>140249488078496&#45;&gt;140249488079984*</title>\n",
       "<path fill=\"none\" stroke=\"black\" d=\"M197.44,-128.5C206.89,-128.5 216.04,-128.5 224.32,-128.5\"/>\n",
       "<polygon fill=\"black\" stroke=\"black\" points=\"224.28,-132 234.28,-128.5 224.28,-125 224.28,-132\"/>\n",
       "</g>\n",
       "<!-- 140249488078448 -->\n",
       "<g id=\"node7\" class=\"node\">\n",
       "<title>140249488078448</title>\n",
       "<polygon fill=\"none\" stroke=\"black\" points=\"716,-137.5 716,-173.5 901,-173.5 901,-137.5 716,-137.5\"/>\n",
       "<text text-anchor=\"middle\" x=\"727.5\" y=\"-151.8\" font-family=\"Times,serif\" font-size=\"14.00\">b</text>\n",
       "<polyline fill=\"none\" stroke=\"black\" points=\"739,-137.5 739,-173.5\"/>\n",
       "<text text-anchor=\"middle\" x=\"779\" y=\"-151.8\" font-family=\"Times,serif\" font-size=\"14.00\">data 6.8814</text>\n",
       "<polyline fill=\"none\" stroke=\"black\" points=\"819,-137.5 819,-173.5\"/>\n",
       "<text text-anchor=\"middle\" x=\"860\" y=\"-151.8\" font-family=\"Times,serif\" font-size=\"14.00\">grad 0.5000</text>\n",
       "</g>\n",
       "<!-- 140249488077200+ -->\n",
       "<g id=\"node13\" class=\"node\">\n",
       "<title>140249488077200+</title>\n",
       "<ellipse fill=\"none\" stroke=\"black\" cx=\"1008\" cy=\"-127.5\" rx=\"27\" ry=\"18\"/>\n",
       "<text text-anchor=\"middle\" x=\"1008\" y=\"-123.8\" font-family=\"Times,serif\" font-size=\"14.00\">+</text>\n",
       "</g>\n",
       "<!-- 140249488078448&#45;&gt;140249488077200+ -->\n",
       "<g id=\"edge6\" class=\"edge\">\n",
       "<title>140249488078448&#45;&gt;140249488077200+</title>\n",
       "<path fill=\"none\" stroke=\"black\" d=\"M900.73,-142.57C925.29,-139.08 950.47,-135.51 970.15,-132.72\"/>\n",
       "<polygon fill=\"black\" stroke=\"black\" points=\"970.44,-136.22 979.85,-131.35 969.46,-129.29 970.44,-136.22\"/>\n",
       "</g>\n",
       "<!-- 140249488078016 -->\n",
       "<g id=\"node8\" class=\"node\">\n",
       "<title>140249488078016</title>\n",
       "<polygon fill=\"none\" stroke=\"black\" points=\"326,-55.5 326,-91.5 546,-91.5 546,-55.5 326,-55.5\"/>\n",
       "<text text-anchor=\"middle\" x=\"352.5\" y=\"-69.8\" font-family=\"Times,serif\" font-size=\"14.00\">x1*w1</text>\n",
       "<polyline fill=\"none\" stroke=\"black\" points=\"379,-55.5 379,-91.5\"/>\n",
       "<text text-anchor=\"middle\" x=\"421.5\" y=\"-69.8\" font-family=\"Times,serif\" font-size=\"14.00\">data &#45;6.0000</text>\n",
       "<polyline fill=\"none\" stroke=\"black\" points=\"464,-55.5 464,-91.5\"/>\n",
       "<text text-anchor=\"middle\" x=\"505\" y=\"-69.8\" font-family=\"Times,serif\" font-size=\"14.00\">grad 0.5000</text>\n",
       "</g>\n",
       "<!-- 140249488078016&#45;&gt;140249488077584+ -->\n",
       "<g id=\"edge9\" class=\"edge\">\n",
       "<title>140249488078016&#45;&gt;140249488077584+</title>\n",
       "<path fill=\"none\" stroke=\"black\" d=\"M545.78,-90.68C554.79,-92.1 563.43,-93.46 571.25,-94.7\"/>\n",
       "<polygon fill=\"black\" stroke=\"black\" points=\"570.51,-98.12 580.94,-96.23 571.61,-91.21 570.51,-98.12\"/>\n",
       "</g>\n",
       "<!-- 140249488078016* -->\n",
       "<g id=\"node9\" class=\"node\">\n",
       "<title>140249488078016*</title>\n",
       "<ellipse fill=\"none\" stroke=\"black\" cx=\"263\" cy=\"-73.5\" rx=\"27\" ry=\"18\"/>\n",
       "<text text-anchor=\"middle\" x=\"263\" y=\"-69.8\" font-family=\"Times,serif\" font-size=\"14.00\">*</text>\n",
       "</g>\n",
       "<!-- 140249488078016*&#45;&gt;140249488078016 -->\n",
       "<g id=\"edge3\" class=\"edge\">\n",
       "<title>140249488078016*&#45;&gt;140249488078016</title>\n",
       "<path fill=\"none\" stroke=\"black\" d=\"M290.34,-73.5C297.6,-73.5 305.98,-73.5 314.97,-73.5\"/>\n",
       "<polygon fill=\"black\" stroke=\"black\" points=\"314.69,-77 324.69,-73.5 314.69,-70 314.69,-77\"/>\n",
       "</g>\n",
       "<!-- 140249488077584 -->\n",
       "<g id=\"node10\" class=\"node\">\n",
       "<title>140249488077584</title>\n",
       "<polygon fill=\"none\" stroke=\"black\" points=\"672,-82.5 672,-118.5 945,-118.5 945,-82.5 672,-82.5\"/>\n",
       "<text text-anchor=\"middle\" x=\"725\" y=\"-96.8\" font-family=\"Times,serif\" font-size=\"14.00\">x1*w1 + x2*w2</text>\n",
       "<polyline fill=\"none\" stroke=\"black\" points=\"778,-82.5 778,-118.5\"/>\n",
       "<text text-anchor=\"middle\" x=\"820.5\" y=\"-96.8\" font-family=\"Times,serif\" font-size=\"14.00\">data &#45;6.0000</text>\n",
       "<polyline fill=\"none\" stroke=\"black\" points=\"863,-82.5 863,-118.5\"/>\n",
       "<text text-anchor=\"middle\" x=\"904\" y=\"-96.8\" font-family=\"Times,serif\" font-size=\"14.00\">grad 0.5000</text>\n",
       "</g>\n",
       "<!-- 140249488077584&#45;&gt;140249488077200+ -->\n",
       "<g id=\"edge7\" class=\"edge\">\n",
       "<title>140249488077584&#45;&gt;140249488077200+</title>\n",
       "<path fill=\"none\" stroke=\"black\" d=\"M940.96,-118.47C951.31,-119.89 961.12,-121.23 969.85,-122.42\"/>\n",
       "<polygon fill=\"black\" stroke=\"black\" points=\"969.17,-125.86 979.56,-123.75 970.12,-118.93 969.17,-125.86\"/>\n",
       "</g>\n",
       "<!-- 140249488077584+&#45;&gt;140249488077584 -->\n",
       "<g id=\"edge4\" class=\"edge\">\n",
       "<title>140249488077584+&#45;&gt;140249488077584</title>\n",
       "<path fill=\"none\" stroke=\"black\" d=\"M636.23,-100.5C643.46,-100.5 651.86,-100.5 660.97,-100.5\"/>\n",
       "<polygon fill=\"black\" stroke=\"black\" points=\"660.89,-104 670.89,-100.5 660.89,-97 660.89,-104\"/>\n",
       "</g>\n",
       "<!-- 140249488077200 -->\n",
       "<g id=\"node12\" class=\"node\">\n",
       "<title>140249488077200</title>\n",
       "<polygon fill=\"none\" stroke=\"black\" points=\"1071,-109.5 1071,-145.5 1256,-145.5 1256,-109.5 1071,-109.5\"/>\n",
       "<text text-anchor=\"middle\" x=\"1082.5\" y=\"-123.8\" font-family=\"Times,serif\" font-size=\"14.00\">n</text>\n",
       "<polyline fill=\"none\" stroke=\"black\" points=\"1094,-109.5 1094,-145.5\"/>\n",
       "<text text-anchor=\"middle\" x=\"1134\" y=\"-123.8\" font-family=\"Times,serif\" font-size=\"14.00\">data 0.8814</text>\n",
       "<polyline fill=\"none\" stroke=\"black\" points=\"1174,-109.5 1174,-145.5\"/>\n",
       "<text text-anchor=\"middle\" x=\"1215\" y=\"-123.8\" font-family=\"Times,serif\" font-size=\"14.00\">grad 0.5000</text>\n",
       "</g>\n",
       "<!-- 140249488077200&#45;&gt;140249488076912tanh -->\n",
       "<g id=\"edge12\" class=\"edge\">\n",
       "<title>140249488077200&#45;&gt;140249488076912tanh</title>\n",
       "<path fill=\"none\" stroke=\"black\" d=\"M1255.57,-127.5C1264.21,-127.5 1272.6,-127.5 1280.28,-127.5\"/>\n",
       "<polygon fill=\"black\" stroke=\"black\" points=\"1280.19,-131 1290.19,-127.5 1280.19,-124 1280.19,-131\"/>\n",
       "</g>\n",
       "<!-- 140249488077200+&#45;&gt;140249488077200 -->\n",
       "<g id=\"edge5\" class=\"edge\">\n",
       "<title>140249488077200+&#45;&gt;140249488077200</title>\n",
       "<path fill=\"none\" stroke=\"black\" d=\"M1035.39,-127.5C1042.62,-127.5 1050.92,-127.5 1059.74,-127.5\"/>\n",
       "<polygon fill=\"black\" stroke=\"black\" points=\"1059.64,-131 1069.64,-127.5 1059.64,-124 1059.64,-131\"/>\n",
       "</g>\n",
       "<!-- 140249488080320 -->\n",
       "<g id=\"node14\" class=\"node\">\n",
       "<title>140249488080320</title>\n",
       "<polygon fill=\"none\" stroke=\"black\" points=\"0,-55.5 0,-91.5 200,-91.5 200,-55.5 0,-55.5\"/>\n",
       "<text text-anchor=\"middle\" x=\"16.5\" y=\"-69.8\" font-family=\"Times,serif\" font-size=\"14.00\">w1</text>\n",
       "<polyline fill=\"none\" stroke=\"black\" points=\"33,-55.5 33,-91.5\"/>\n",
       "<text text-anchor=\"middle\" x=\"75.5\" y=\"-69.8\" font-family=\"Times,serif\" font-size=\"14.00\">data &#45;3.0000</text>\n",
       "<polyline fill=\"none\" stroke=\"black\" points=\"118,-55.5 118,-91.5\"/>\n",
       "<text text-anchor=\"middle\" x=\"159\" y=\"-69.8\" font-family=\"Times,serif\" font-size=\"14.00\">grad 1.0000</text>\n",
       "</g>\n",
       "<!-- 140249488080320&#45;&gt;140249488078016* -->\n",
       "<g id=\"edge10\" class=\"edge\">\n",
       "<title>140249488080320&#45;&gt;140249488078016*</title>\n",
       "<path fill=\"none\" stroke=\"black\" d=\"M199.75,-73.5C208.38,-73.5 216.71,-73.5 224.33,-73.5\"/>\n",
       "<polygon fill=\"black\" stroke=\"black\" points=\"224.12,-77 234.12,-73.5 224.12,-70 224.12,-77\"/>\n",
       "</g>\n",
       "<!-- 140249488080848 -->\n",
       "<g id=\"node15\" class=\"node\">\n",
       "<title>140249488080848</title>\n",
       "<polygon fill=\"none\" stroke=\"black\" points=\"2,-0.5 2,-36.5 198,-36.5 198,-0.5 2,-0.5\"/>\n",
       "<text text-anchor=\"middle\" x=\"17\" y=\"-14.8\" font-family=\"Times,serif\" font-size=\"14.00\">x1</text>\n",
       "<polyline fill=\"none\" stroke=\"black\" points=\"32,-0.5 32,-36.5\"/>\n",
       "<text text-anchor=\"middle\" x=\"72\" y=\"-14.8\" font-family=\"Times,serif\" font-size=\"14.00\">data 2.0000</text>\n",
       "<polyline fill=\"none\" stroke=\"black\" points=\"112,-0.5 112,-36.5\"/>\n",
       "<text text-anchor=\"middle\" x=\"155\" y=\"-14.8\" font-family=\"Times,serif\" font-size=\"14.00\">grad &#45;1.5000</text>\n",
       "</g>\n",
       "<!-- 140249488080848&#45;&gt;140249488078016* -->\n",
       "<g id=\"edge11\" class=\"edge\">\n",
       "<title>140249488080848&#45;&gt;140249488078016*</title>\n",
       "<path fill=\"none\" stroke=\"black\" d=\"M169.02,-36.42C179.47,-39.56 190.08,-42.95 200,-46.5 209.96,-50.06 220.59,-54.46 230.18,-58.66\"/>\n",
       "<polygon fill=\"black\" stroke=\"black\" points=\"228.54,-61.76 239.1,-62.66 231.4,-55.37 228.54,-61.76\"/>\n",
       "</g>\n",
       "</g>\n",
       "</svg>\n"
      ],
      "text/plain": [
       "<graphviz.graphs.Digraph at 0x7f8e60ec33d0>"
      ]
     },
     "execution_count": 185,
     "metadata": {},
     "output_type": "execute_result"
    }
   ],
   "source": [
    "draw_dot(o)"
   ]
  },
  {
   "cell_type": "code",
   "execution_count": 152,
   "id": "b2552266-42f8-4770-bc39-19f284d3f9ab",
   "metadata": {
    "tags": []
   },
   "outputs": [],
   "source": [
    "o.backward()"
   ]
  },
  {
   "cell_type": "code",
   "execution_count": 147,
   "id": "7f6dc5b9-75ad-4dbe-8840-42ca86c03499",
   "metadata": {
    "tags": []
   },
   "outputs": [
    {
     "name": "stdout",
     "output_type": "stream",
     "text": [
      "[Value(data=6.881373587019543), Value(data=0.0), Value(data=1.0), Value(data=0.0), Value(data=-3.0), Value(data=2.0), Value(data=-6.0), Value(data=-6.0), Value(data=0.8813735870195432), Value(data=0.7071067811865476)]\n"
     ]
    }
   ],
   "source": [
    "o.grad = 1.0\n",
    "topo = []\n",
    "visited = set()\n",
    "\n",
    "def build(v):\n",
    "    if v not in visited:\n",
    "        visited.add(v)\n",
    "        for c in v._prev:\n",
    "            build(c)\n",
    "        topo.append(v)\n",
    "    \n",
    "build(o)\n",
    "\n",
    "print(topo)\n",
    "\n",
    "for node in reversed(topo):\n",
    "    node._backward()"
   ]
  },
  {
   "cell_type": "code",
   "execution_count": 131,
   "id": "d1f35771-770a-466f-81d8-fc2ff48546ad",
   "metadata": {
    "tags": []
   },
   "outputs": [],
   "source": [
    "o.grad = 1.0\n",
    "o._backward()\n",
    "\n",
    "n._backward()\n",
    "x1w1x2w2._backward()\n",
    "x2w2._backward()\n",
    "x1w1._backward()"
   ]
  },
  {
   "cell_type": "code",
   "execution_count": 110,
   "id": "8fea76ec-97c5-4889-a9a9-6101fea6a94e",
   "metadata": {
    "tags": []
   },
   "outputs": [],
   "source": [
    "x2.grad = w2.data * x2w2.grad\n",
    "w2.grad = x2.data * x2w2.grad"
   ]
  },
  {
   "cell_type": "code",
   "execution_count": 112,
   "id": "54dd6063-fb4e-41db-9bea-61c5fc792cd3",
   "metadata": {
    "tags": []
   },
   "outputs": [],
   "source": [
    "x1.grad = w1.data * x1w1.grad\n",
    "w1.grad = x1.data * x1w1.grad"
   ]
  },
  {
   "cell_type": "code",
   "execution_count": 105,
   "id": "db8f3d88-8a61-423f-8460-4236c3caa341",
   "metadata": {
    "tags": []
   },
   "outputs": [],
   "source": [
    "x1w1x2w2.grad = 0.5"
   ]
  },
  {
   "cell_type": "code",
   "execution_count": 106,
   "id": "780269ae-1155-4a92-ba10-285003bceca1",
   "metadata": {
    "tags": []
   },
   "outputs": [],
   "source": [
    "x1w1.grad = 0.5\n",
    "x2w2.grad = 0.5"
   ]
  },
  {
   "cell_type": "code",
   "execution_count": 101,
   "id": "3df6d5a8-20f4-4aac-90bd-844a2064864f",
   "metadata": {
    "tags": []
   },
   "outputs": [],
   "source": [
    "b.grad = 0.5"
   ]
  },
  {
   "cell_type": "code",
   "execution_count": 100,
   "id": "ee5b092a-ac49-4748-b5fb-f139eeec94f3",
   "metadata": {
    "tags": []
   },
   "outputs": [],
   "source": [
    "o.grad = 1.0"
   ]
  },
  {
   "cell_type": "code",
   "execution_count": 92,
   "id": "b6fee3cc-c6e0-45c2-8aa5-c49d6ef63f24",
   "metadata": {
    "tags": []
   },
   "outputs": [
    {
     "data": {
      "text/plain": [
       "0.4999999999999999"
      ]
     },
     "execution_count": 92,
     "metadata": {},
     "output_type": "execute_result"
    }
   ],
   "source": [
    "1 - o.data ** 2"
   ]
  },
  {
   "cell_type": "code",
   "execution_count": 156,
   "id": "0646b171-b35b-4566-b946-b938bf97d97a",
   "metadata": {
    "tags": []
   },
   "outputs": [
    {
     "data": {
      "image/svg+xml": [
       "<?xml version=\"1.0\" encoding=\"UTF-8\" standalone=\"no\"?>\n",
       "<!DOCTYPE svg PUBLIC \"-//W3C//DTD SVG 1.1//EN\"\n",
       " \"http://www.w3.org/Graphics/SVG/1.1/DTD/svg11.dtd\">\n",
       "<!-- Generated by graphviz version 7.1.0 (20230121.1956)\n",
       " -->\n",
       "<!-- Pages: 1 -->\n",
       "<svg width=\"504pt\" height=\"45pt\"\n",
       " viewBox=\"0.00 0.00 504.00 45.00\" xmlns=\"http://www.w3.org/2000/svg\" xmlns:xlink=\"http://www.w3.org/1999/xlink\">\n",
       "<g id=\"graph0\" class=\"graph\" transform=\"scale(1 1) rotate(0) translate(4 41)\">\n",
       "<polygon fill=\"white\" stroke=\"none\" points=\"-4,4 -4,-41 500,-41 500,4 -4,4\"/>\n",
       "<!-- 140251089393024 -->\n",
       "<g id=\"node1\" class=\"node\">\n",
       "<title>140251089393024</title>\n",
       "<polygon fill=\"none\" stroke=\"black\" points=\"0,-0.5 0,-36.5 185,-36.5 185,-0.5 0,-0.5\"/>\n",
       "<text text-anchor=\"middle\" x=\"11.5\" y=\"-14.8\" font-family=\"Times,serif\" font-size=\"14.00\">a</text>\n",
       "<polyline fill=\"none\" stroke=\"black\" points=\"23,-0.5 23,-36.5\"/>\n",
       "<text text-anchor=\"middle\" x=\"63\" y=\"-14.8\" font-family=\"Times,serif\" font-size=\"14.00\">data 3.0000</text>\n",
       "<polyline fill=\"none\" stroke=\"black\" points=\"103,-0.5 103,-36.5\"/>\n",
       "<text text-anchor=\"middle\" x=\"144\" y=\"-14.8\" font-family=\"Times,serif\" font-size=\"14.00\">grad 2.0000</text>\n",
       "</g>\n",
       "<!-- 140251089514896+ -->\n",
       "<g id=\"node3\" class=\"node\">\n",
       "<title>140251089514896+</title>\n",
       "<ellipse fill=\"none\" stroke=\"black\" cx=\"248\" cy=\"-18.5\" rx=\"27\" ry=\"18\"/>\n",
       "<text text-anchor=\"middle\" x=\"248\" y=\"-14.8\" font-family=\"Times,serif\" font-size=\"14.00\">+</text>\n",
       "</g>\n",
       "<!-- 140251089393024&#45;&gt;140251089514896+ -->\n",
       "<g id=\"edge2\" class=\"edge\">\n",
       "<title>140251089393024&#45;&gt;140251089514896+</title>\n",
       "<path fill=\"none\" stroke=\"black\" d=\"M184.57,-18.5C193.21,-18.5 201.6,-18.5 209.28,-18.5\"/>\n",
       "<polygon fill=\"black\" stroke=\"black\" points=\"209.19,-22 219.19,-18.5 209.19,-15 209.19,-22\"/>\n",
       "</g>\n",
       "<!-- 140251089514896 -->\n",
       "<g id=\"node2\" class=\"node\">\n",
       "<title>140251089514896</title>\n",
       "<polygon fill=\"none\" stroke=\"black\" points=\"311,-0.5 311,-36.5 496,-36.5 496,-0.5 311,-0.5\"/>\n",
       "<text text-anchor=\"middle\" x=\"322.5\" y=\"-14.8\" font-family=\"Times,serif\" font-size=\"14.00\">b</text>\n",
       "<polyline fill=\"none\" stroke=\"black\" points=\"334,-0.5 334,-36.5\"/>\n",
       "<text text-anchor=\"middle\" x=\"374\" y=\"-14.8\" font-family=\"Times,serif\" font-size=\"14.00\">data 6.0000</text>\n",
       "<polyline fill=\"none\" stroke=\"black\" points=\"414,-0.5 414,-36.5\"/>\n",
       "<text text-anchor=\"middle\" x=\"455\" y=\"-14.8\" font-family=\"Times,serif\" font-size=\"14.00\">grad 1.0000</text>\n",
       "</g>\n",
       "<!-- 140251089514896+&#45;&gt;140251089514896 -->\n",
       "<g id=\"edge1\" class=\"edge\">\n",
       "<title>140251089514896+&#45;&gt;140251089514896</title>\n",
       "<path fill=\"none\" stroke=\"black\" d=\"M275.39,-18.5C282.62,-18.5 290.92,-18.5 299.74,-18.5\"/>\n",
       "<polygon fill=\"black\" stroke=\"black\" points=\"299.64,-22 309.64,-18.5 299.64,-15 299.64,-22\"/>\n",
       "</g>\n",
       "</g>\n",
       "</svg>\n"
      ],
      "text/plain": [
       "<graphviz.graphs.Digraph at 0x7f8ec05cd280>"
      ]
     },
     "execution_count": 156,
     "metadata": {},
     "output_type": "execute_result"
    }
   ],
   "source": [
    "a = Value(3.0, label = 'a')\n",
    "b = a + a ; b.label = 'b'\n",
    "b.backward()\n",
    "draw_dot(b)"
   ]
  },
  {
   "cell_type": "code",
   "execution_count": 158,
   "id": "b3211f38-7058-4d35-b4ad-89d9faf58c91",
   "metadata": {
    "tags": []
   },
   "outputs": [
    {
     "data": {
      "image/svg+xml": [
       "<?xml version=\"1.0\" encoding=\"UTF-8\" standalone=\"no\"?>\n",
       "<!DOCTYPE svg PUBLIC \"-//W3C//DTD SVG 1.1//EN\"\n",
       " \"http://www.w3.org/Graphics/SVG/1.1/DTD/svg11.dtd\">\n",
       "<!-- Generated by graphviz version 7.1.0 (20230121.1956)\n",
       " -->\n",
       "<!-- Pages: 1 -->\n",
       "<svg width=\"828pt\" height=\"100pt\"\n",
       " viewBox=\"0.00 0.00 828.00 100.00\" xmlns=\"http://www.w3.org/2000/svg\" xmlns:xlink=\"http://www.w3.org/1999/xlink\">\n",
       "<g id=\"graph0\" class=\"graph\" transform=\"scale(1 1) rotate(0) translate(4 96)\">\n",
       "<polygon fill=\"white\" stroke=\"none\" points=\"-4,4 -4,-96 824,-96 824,4 -4,4\"/>\n",
       "<!-- 140249211154048 -->\n",
       "<g id=\"node1\" class=\"node\">\n",
       "<title>140249211154048</title>\n",
       "<polygon fill=\"none\" stroke=\"black\" points=\"0,-55.5 0,-91.5 194,-91.5 194,-55.5 0,-55.5\"/>\n",
       "<text text-anchor=\"middle\" x=\"11.5\" y=\"-69.8\" font-family=\"Times,serif\" font-size=\"14.00\">a</text>\n",
       "<polyline fill=\"none\" stroke=\"black\" points=\"23,-55.5 23,-91.5\"/>\n",
       "<text text-anchor=\"middle\" x=\"65.5\" y=\"-69.8\" font-family=\"Times,serif\" font-size=\"14.00\">data &#45;2.0000</text>\n",
       "<polyline fill=\"none\" stroke=\"black\" points=\"108,-55.5 108,-91.5\"/>\n",
       "<text text-anchor=\"middle\" x=\"151\" y=\"-69.8\" font-family=\"Times,serif\" font-size=\"14.00\">grad &#45;3.0000</text>\n",
       "</g>\n",
       "<!-- 140249211150640* -->\n",
       "<g id=\"node6\" class=\"node\">\n",
       "<title>140249211150640*</title>\n",
       "<ellipse fill=\"none\" stroke=\"black\" cx=\"257\" cy=\"-73.5\" rx=\"27\" ry=\"18\"/>\n",
       "<text text-anchor=\"middle\" x=\"257\" y=\"-69.8\" font-family=\"Times,serif\" font-size=\"14.00\">*</text>\n",
       "</g>\n",
       "<!-- 140249211154048&#45;&gt;140249211150640* -->\n",
       "<g id=\"edge6\" class=\"edge\">\n",
       "<title>140249211154048&#45;&gt;140249211150640*</title>\n",
       "<path fill=\"none\" stroke=\"black\" d=\"M193.55,-73.5C202.25,-73.5 210.67,-73.5 218.37,-73.5\"/>\n",
       "<polygon fill=\"black\" stroke=\"black\" points=\"218.27,-77 228.27,-73.5 218.27,-70 218.27,-77\"/>\n",
       "</g>\n",
       "<!-- 140249211150688+ -->\n",
       "<g id=\"node8\" class=\"node\">\n",
       "<title>140249211150688+</title>\n",
       "<ellipse fill=\"none\" stroke=\"black\" cx=\"257\" cy=\"-18.5\" rx=\"27\" ry=\"18\"/>\n",
       "<text text-anchor=\"middle\" x=\"257\" y=\"-14.8\" font-family=\"Times,serif\" font-size=\"14.00\">+</text>\n",
       "</g>\n",
       "<!-- 140249211154048&#45;&gt;140249211150688+ -->\n",
       "<g id=\"edge4\" class=\"edge\">\n",
       "<title>140249211154048&#45;&gt;140249211150688+</title>\n",
       "<path fill=\"none\" stroke=\"black\" d=\"M166.58,-55.57C175.86,-52.75 185.22,-49.7 194,-46.5 204.08,-42.83 214.81,-38.24 224.46,-33.84\"/>\n",
       "<polygon fill=\"black\" stroke=\"black\" points=\"225.85,-37.06 233.44,-29.66 222.89,-30.71 225.85,-37.06\"/>\n",
       "</g>\n",
       "<!-- 140249211154144 -->\n",
       "<g id=\"node2\" class=\"node\">\n",
       "<title>140249211154144</title>\n",
       "<polygon fill=\"none\" stroke=\"black\" points=\"2.5,-0.5 2.5,-36.5 191.5,-36.5 191.5,-0.5 2.5,-0.5\"/>\n",
       "<text text-anchor=\"middle\" x=\"14\" y=\"-14.8\" font-family=\"Times,serif\" font-size=\"14.00\">b</text>\n",
       "<polyline fill=\"none\" stroke=\"black\" points=\"25.5,-0.5 25.5,-36.5\"/>\n",
       "<text text-anchor=\"middle\" x=\"65.5\" y=\"-14.8\" font-family=\"Times,serif\" font-size=\"14.00\">data 3.0000</text>\n",
       "<polyline fill=\"none\" stroke=\"black\" points=\"105.5,-0.5 105.5,-36.5\"/>\n",
       "<text text-anchor=\"middle\" x=\"148.5\" y=\"-14.8\" font-family=\"Times,serif\" font-size=\"14.00\">grad &#45;8.0000</text>\n",
       "</g>\n",
       "<!-- 140249211154144&#45;&gt;140249211150640* -->\n",
       "<g id=\"edge7\" class=\"edge\">\n",
       "<title>140249211154144&#45;&gt;140249211150640*</title>\n",
       "<path fill=\"none\" stroke=\"black\" d=\"M163.68,-36.45C173.9,-39.59 184.29,-42.98 194,-46.5 203.87,-50.07 214.4,-54.44 223.93,-58.61\"/>\n",
       "<polygon fill=\"black\" stroke=\"black\" points=\"222.24,-61.69 232.8,-62.57 225.09,-55.3 222.24,-61.69\"/>\n",
       "</g>\n",
       "<!-- 140249211154144&#45;&gt;140249211150688+ -->\n",
       "<g id=\"edge5\" class=\"edge\">\n",
       "<title>140249211154144&#45;&gt;140249211150688+</title>\n",
       "<path fill=\"none\" stroke=\"black\" d=\"M191.28,-18.5C200.71,-18.5 209.85,-18.5 218.16,-18.5\"/>\n",
       "<polygon fill=\"black\" stroke=\"black\" points=\"218.14,-22 228.14,-18.5 218.14,-15 218.14,-22\"/>\n",
       "</g>\n",
       "<!-- 140249211153664 -->\n",
       "<g id=\"node3\" class=\"node\">\n",
       "<title>140249211153664</title>\n",
       "<polygon fill=\"none\" stroke=\"black\" points=\"633,-27.5 633,-63.5 820,-63.5 820,-27.5 633,-27.5\"/>\n",
       "<text text-anchor=\"middle\" x=\"643\" y=\"-41.8\" font-family=\"Times,serif\" font-size=\"14.00\"> </text>\n",
       "<polyline fill=\"none\" stroke=\"black\" points=\"653,-27.5 653,-63.5\"/>\n",
       "<text text-anchor=\"middle\" x=\"695.5\" y=\"-41.8\" font-family=\"Times,serif\" font-size=\"14.00\">data &#45;6.0000</text>\n",
       "<polyline fill=\"none\" stroke=\"black\" points=\"738,-27.5 738,-63.5\"/>\n",
       "<text text-anchor=\"middle\" x=\"779\" y=\"-41.8\" font-family=\"Times,serif\" font-size=\"14.00\">grad 1.0000</text>\n",
       "</g>\n",
       "<!-- 140249211153664* -->\n",
       "<g id=\"node4\" class=\"node\">\n",
       "<title>140249211153664*</title>\n",
       "<ellipse fill=\"none\" stroke=\"black\" cx=\"570\" cy=\"-45.5\" rx=\"27\" ry=\"18\"/>\n",
       "<text text-anchor=\"middle\" x=\"570\" y=\"-41.8\" font-family=\"Times,serif\" font-size=\"14.00\">*</text>\n",
       "</g>\n",
       "<!-- 140249211153664*&#45;&gt;140249211153664 -->\n",
       "<g id=\"edge1\" class=\"edge\">\n",
       "<title>140249211153664*&#45;&gt;140249211153664</title>\n",
       "<path fill=\"none\" stroke=\"black\" d=\"M597.21,-45.5C604.47,-45.5 612.83,-45.5 621.71,-45.5\"/>\n",
       "<polygon fill=\"black\" stroke=\"black\" points=\"621.7,-49 631.7,-45.5 621.7,-42 621.7,-49\"/>\n",
       "</g>\n",
       "<!-- 140249211150640 -->\n",
       "<g id=\"node5\" class=\"node\">\n",
       "<title>140249211150640</title>\n",
       "<polygon fill=\"none\" stroke=\"black\" points=\"320,-55.5 320,-91.5 507,-91.5 507,-55.5 320,-55.5\"/>\n",
       "<text text-anchor=\"middle\" x=\"330\" y=\"-69.8\" font-family=\"Times,serif\" font-size=\"14.00\"> </text>\n",
       "<polyline fill=\"none\" stroke=\"black\" points=\"340,-55.5 340,-91.5\"/>\n",
       "<text text-anchor=\"middle\" x=\"382.5\" y=\"-69.8\" font-family=\"Times,serif\" font-size=\"14.00\">data &#45;6.0000</text>\n",
       "<polyline fill=\"none\" stroke=\"black\" points=\"425,-55.5 425,-91.5\"/>\n",
       "<text text-anchor=\"middle\" x=\"466\" y=\"-69.8\" font-family=\"Times,serif\" font-size=\"14.00\">grad 1.0000</text>\n",
       "</g>\n",
       "<!-- 140249211150640&#45;&gt;140249211153664* -->\n",
       "<g id=\"edge8\" class=\"edge\">\n",
       "<title>140249211150640&#45;&gt;140249211153664*</title>\n",
       "<path fill=\"none\" stroke=\"black\" d=\"M506.6,-56.81C515.72,-55.16 524.55,-53.56 532.56,-52.1\"/>\n",
       "<polygon fill=\"black\" stroke=\"black\" points=\"532.94,-55.59 542.16,-50.36 531.7,-48.7 532.94,-55.59\"/>\n",
       "</g>\n",
       "<!-- 140249211150640*&#45;&gt;140249211150640 -->\n",
       "<g id=\"edge2\" class=\"edge\">\n",
       "<title>140249211150640*&#45;&gt;140249211150640</title>\n",
       "<path fill=\"none\" stroke=\"black\" d=\"M284.21,-73.5C291.47,-73.5 299.83,-73.5 308.71,-73.5\"/>\n",
       "<polygon fill=\"black\" stroke=\"black\" points=\"308.7,-77 318.7,-73.5 308.7,-70 308.7,-77\"/>\n",
       "</g>\n",
       "<!-- 140249211150688 -->\n",
       "<g id=\"node7\" class=\"node\">\n",
       "<title>140249211150688</title>\n",
       "<polygon fill=\"none\" stroke=\"black\" points=\"320.5,-0.5 320.5,-36.5 506.5,-36.5 506.5,-0.5 320.5,-0.5\"/>\n",
       "<text text-anchor=\"middle\" x=\"330.5\" y=\"-14.8\" font-family=\"Times,serif\" font-size=\"14.00\"> </text>\n",
       "<polyline fill=\"none\" stroke=\"black\" points=\"340.5,-0.5 340.5,-36.5\"/>\n",
       "<text text-anchor=\"middle\" x=\"380.5\" y=\"-14.8\" font-family=\"Times,serif\" font-size=\"14.00\">data 1.0000</text>\n",
       "<polyline fill=\"none\" stroke=\"black\" points=\"420.5,-0.5 420.5,-36.5\"/>\n",
       "<text text-anchor=\"middle\" x=\"463.5\" y=\"-14.8\" font-family=\"Times,serif\" font-size=\"14.00\">grad &#45;6.0000</text>\n",
       "</g>\n",
       "<!-- 140249211150688&#45;&gt;140249211153664* -->\n",
       "<g id=\"edge9\" class=\"edge\">\n",
       "<title>140249211150688&#45;&gt;140249211153664*</title>\n",
       "<path fill=\"none\" stroke=\"black\" d=\"M506.16,-34.52C515.33,-36.12 524.21,-37.67 532.28,-39.08\"/>\n",
       "<polygon fill=\"black\" stroke=\"black\" points=\"531.5,-42.5 541.95,-40.77 532.71,-35.6 531.5,-42.5\"/>\n",
       "</g>\n",
       "<!-- 140249211150688+&#45;&gt;140249211150688 -->\n",
       "<g id=\"edge3\" class=\"edge\">\n",
       "<title>140249211150688+&#45;&gt;140249211150688</title>\n",
       "<path fill=\"none\" stroke=\"black\" d=\"M284.21,-18.5C291.61,-18.5 300.15,-18.5 309.24,-18.5\"/>\n",
       "<polygon fill=\"black\" stroke=\"black\" points=\"309.03,-22 319.03,-18.5 309.03,-15 309.03,-22\"/>\n",
       "</g>\n",
       "</g>\n",
       "</svg>\n"
      ],
      "text/plain": [
       "<graphviz.graphs.Digraph at 0x7f8e50692940>"
      ]
     },
     "execution_count": 158,
     "metadata": {},
     "output_type": "execute_result"
    }
   ],
   "source": [
    "a = Value(-2.0, label='a')\n",
    "b = Value(3.0, label='b')\n",
    "d = a * b\n",
    "e = a + b\n",
    "f = d * e\n",
    "\n",
    "f.backward()\n",
    "draw_dot(f)"
   ]
  },
  {
   "cell_type": "code",
   "execution_count": 195,
   "id": "50e7961c-5ab6-4625-8e5f-f76a450f3e09",
   "metadata": {
    "tags": []
   },
   "outputs": [
    {
     "data": {
      "image/svg+xml": [
       "<?xml version=\"1.0\" encoding=\"UTF-8\" standalone=\"no\"?>\n",
       "<!DOCTYPE svg PUBLIC \"-//W3C//DTD SVG 1.1//EN\"\n",
       " \"http://www.w3.org/Graphics/SVG/1.1/DTD/svg11.dtd\">\n",
       "<!-- Generated by graphviz version 7.1.0 (20230121.1956)\n",
       " -->\n",
       "<!-- Pages: 1 -->\n",
       "<svg width=\"2944pt\" height=\"239pt\"\n",
       " viewBox=\"0.00 0.00 2944.00 239.00\" xmlns=\"http://www.w3.org/2000/svg\" xmlns:xlink=\"http://www.w3.org/1999/xlink\">\n",
       "<g id=\"graph0\" class=\"graph\" transform=\"scale(1 1) rotate(0) translate(4 235)\">\n",
       "<polygon fill=\"white\" stroke=\"none\" points=\"-4,4 -4,-235 2940,-235 2940,4 -4,4\"/>\n",
       "<!-- 140249486001296 -->\n",
       "<g id=\"node1\" class=\"node\">\n",
       "<title>140249486001296</title>\n",
       "<polygon fill=\"none\" stroke=\"black\" points=\"4,-194.5 4,-230.5 196,-230.5 196,-194.5 4,-194.5\"/>\n",
       "<text text-anchor=\"middle\" x=\"19\" y=\"-208.8\" font-family=\"Times,serif\" font-size=\"14.00\">x2</text>\n",
       "<polyline fill=\"none\" stroke=\"black\" points=\"34,-194.5 34,-230.5\"/>\n",
       "<text text-anchor=\"middle\" x=\"74\" y=\"-208.8\" font-family=\"Times,serif\" font-size=\"14.00\">data 0.0000</text>\n",
       "<polyline fill=\"none\" stroke=\"black\" points=\"114,-194.5 114,-230.5\"/>\n",
       "<text text-anchor=\"middle\" x=\"155\" y=\"-208.8\" font-family=\"Times,serif\" font-size=\"14.00\">grad 0.5000</text>\n",
       "</g>\n",
       "<!-- 140249485537584* -->\n",
       "<g id=\"node16\" class=\"node\">\n",
       "<title>140249485537584*</title>\n",
       "<ellipse fill=\"none\" stroke=\"black\" cx=\"263\" cy=\"-157.5\" rx=\"27\" ry=\"18\"/>\n",
       "<text text-anchor=\"middle\" x=\"263\" y=\"-153.8\" font-family=\"Times,serif\" font-size=\"14.00\">*</text>\n",
       "</g>\n",
       "<!-- 140249486001296&#45;&gt;140249485537584* -->\n",
       "<g id=\"edge21\" class=\"edge\">\n",
       "<title>140249486001296&#45;&gt;140249485537584*</title>\n",
       "<path fill=\"none\" stroke=\"black\" d=\"M172.27,-194.52C181.67,-191.72 191.12,-188.7 200,-185.5 210.09,-181.87 220.83,-177.29 230.48,-172.89\"/>\n",
       "<polygon fill=\"black\" stroke=\"black\" points=\"231.87,-176.11 239.45,-168.71 228.91,-169.76 231.87,-176.11\"/>\n",
       "</g>\n",
       "<!-- 140250550937248 -->\n",
       "<g id=\"node2\" class=\"node\">\n",
       "<title>140250550937248</title>\n",
       "<polygon fill=\"none\" stroke=\"black\" points=\"326,-84.5 326,-120.5 546,-120.5 546,-84.5 326,-84.5\"/>\n",
       "<text text-anchor=\"middle\" x=\"352.5\" y=\"-98.8\" font-family=\"Times,serif\" font-size=\"14.00\">x1*w1</text>\n",
       "<polyline fill=\"none\" stroke=\"black\" points=\"379,-84.5 379,-120.5\"/>\n",
       "<text text-anchor=\"middle\" x=\"421.5\" y=\"-98.8\" font-family=\"Times,serif\" font-size=\"14.00\">data &#45;6.0000</text>\n",
       "<polyline fill=\"none\" stroke=\"black\" points=\"464,-84.5 464,-120.5\"/>\n",
       "<text text-anchor=\"middle\" x=\"505\" y=\"-98.8\" font-family=\"Times,serif\" font-size=\"14.00\">grad 0.5000</text>\n",
       "</g>\n",
       "<!-- 140249485540272+ -->\n",
       "<g id=\"node23\" class=\"node\">\n",
       "<title>140249485540272+</title>\n",
       "<ellipse fill=\"none\" stroke=\"black\" cx=\"609\" cy=\"-129.5\" rx=\"27\" ry=\"18\"/>\n",
       "<text text-anchor=\"middle\" x=\"609\" y=\"-125.8\" font-family=\"Times,serif\" font-size=\"14.00\">+</text>\n",
       "</g>\n",
       "<!-- 140250550937248&#45;&gt;140249485540272+ -->\n",
       "<g id=\"edge13\" class=\"edge\">\n",
       "<title>140250550937248&#45;&gt;140249485540272+</title>\n",
       "<path fill=\"none\" stroke=\"black\" d=\"M545.78,-119.68C554.79,-121.1 563.43,-122.46 571.25,-123.7\"/>\n",
       "<polygon fill=\"black\" stroke=\"black\" points=\"570.51,-127.12 580.94,-125.23 571.61,-120.21 570.51,-127.12\"/>\n",
       "</g>\n",
       "<!-- 140250550937248* -->\n",
       "<g id=\"node3\" class=\"node\">\n",
       "<title>140250550937248*</title>\n",
       "<ellipse fill=\"none\" stroke=\"black\" cx=\"263\" cy=\"-102.5\" rx=\"27\" ry=\"18\"/>\n",
       "<text text-anchor=\"middle\" x=\"263\" y=\"-98.8\" font-family=\"Times,serif\" font-size=\"14.00\">*</text>\n",
       "</g>\n",
       "<!-- 140250550937248*&#45;&gt;140250550937248 -->\n",
       "<g id=\"edge1\" class=\"edge\">\n",
       "<title>140250550937248*&#45;&gt;140250550937248</title>\n",
       "<path fill=\"none\" stroke=\"black\" d=\"M290.34,-102.5C297.6,-102.5 305.98,-102.5 314.97,-102.5\"/>\n",
       "<polygon fill=\"black\" stroke=\"black\" points=\"314.69,-106 324.69,-102.5 314.69,-99 314.69,-106\"/>\n",
       "</g>\n",
       "<!-- 140249485541040 -->\n",
       "<g id=\"node4\" class=\"node\">\n",
       "<title>140249485541040</title>\n",
       "<polygon fill=\"none\" stroke=\"black\" points=\"1690,-0.5 1690,-36.5 1877,-36.5 1877,-0.5 1690,-0.5\"/>\n",
       "<text text-anchor=\"middle\" x=\"1700\" y=\"-14.8\" font-family=\"Times,serif\" font-size=\"14.00\"> </text>\n",
       "<polyline fill=\"none\" stroke=\"black\" points=\"1710,-0.5 1710,-36.5\"/>\n",
       "<text text-anchor=\"middle\" x=\"1752.5\" y=\"-14.8\" font-family=\"Times,serif\" font-size=\"14.00\">data &#45;1.0000</text>\n",
       "<polyline fill=\"none\" stroke=\"black\" points=\"1795,-0.5 1795,-36.5\"/>\n",
       "<text text-anchor=\"middle\" x=\"1836\" y=\"-14.8\" font-family=\"Times,serif\" font-size=\"14.00\">grad 0.1464</text>\n",
       "</g>\n",
       "<!-- 140249485538016+ -->\n",
       "<g id=\"node9\" class=\"node\">\n",
       "<title>140249485538016+</title>\n",
       "<ellipse fill=\"none\" stroke=\"black\" cx=\"1940\" cy=\"-45.5\" rx=\"27\" ry=\"18\"/>\n",
       "<text text-anchor=\"middle\" x=\"1940\" y=\"-41.8\" font-family=\"Times,serif\" font-size=\"14.00\">+</text>\n",
       "</g>\n",
       "<!-- 140249485541040&#45;&gt;140249485538016+ -->\n",
       "<g id=\"edge14\" class=\"edge\">\n",
       "<title>140249485541040&#45;&gt;140249485538016+</title>\n",
       "<path fill=\"none\" stroke=\"black\" d=\"M1876.6,-34.6C1885.53,-36.16 1894.18,-37.67 1902.06,-39.04\"/>\n",
       "<polygon fill=\"black\" stroke=\"black\" points=\"1901.4,-42.48 1911.86,-40.76 1902.61,-35.59 1901.4,-42.48\"/>\n",
       "</g>\n",
       "<!-- 140250826515600 -->\n",
       "<g id=\"node5\" class=\"node\">\n",
       "<title>140250826515600</title>\n",
       "<polygon fill=\"none\" stroke=\"black\" points=\"2003,-82.5 2003,-118.5 2189,-118.5 2189,-82.5 2003,-82.5\"/>\n",
       "<text text-anchor=\"middle\" x=\"2013\" y=\"-96.8\" font-family=\"Times,serif\" font-size=\"14.00\"> </text>\n",
       "<polyline fill=\"none\" stroke=\"black\" points=\"2023,-82.5 2023,-118.5\"/>\n",
       "<text text-anchor=\"middle\" x=\"2063\" y=\"-96.8\" font-family=\"Times,serif\" font-size=\"14.00\">data 6.8284</text>\n",
       "<polyline fill=\"none\" stroke=\"black\" points=\"2103,-82.5 2103,-118.5\"/>\n",
       "<text text-anchor=\"middle\" x=\"2146\" y=\"-96.8\" font-family=\"Times,serif\" font-size=\"14.00\">grad &#45;0.1036</text>\n",
       "</g>\n",
       "<!-- 140250826514784**&#45;1 -->\n",
       "<g id=\"node21\" class=\"node\">\n",
       "<title>140250826514784**&#45;1</title>\n",
       "<ellipse fill=\"none\" stroke=\"black\" cx=\"2316\" cy=\"-100.5\" rx=\"27\" ry=\"18\"/>\n",
       "<text text-anchor=\"middle\" x=\"2316\" y=\"-96.8\" font-family=\"Times,serif\" font-size=\"14.00\">**&#45;1</text>\n",
       "</g>\n",
       "<!-- 140250826515600&#45;&gt;140250826514784**&#45;1 -->\n",
       "<g id=\"edge18\" class=\"edge\">\n",
       "<title>140250826515600&#45;&gt;140250826514784**&#45;1</title>\n",
       "<path fill=\"none\" stroke=\"black\" d=\"M2188.82,-100.5C2220.02,-100.5 2253.15,-100.5 2277.62,-100.5\"/>\n",
       "<polygon fill=\"black\" stroke=\"black\" points=\"2277.39,-104 2287.39,-100.5 2277.39,-97 2277.39,-104\"/>\n",
       "</g>\n",
       "<!-- 140250826515600+ -->\n",
       "<g id=\"node6\" class=\"node\">\n",
       "<title>140250826515600+</title>\n",
       "<ellipse fill=\"none\" stroke=\"black\" cx=\"1940\" cy=\"-100.5\" rx=\"27\" ry=\"18\"/>\n",
       "<text text-anchor=\"middle\" x=\"1940\" y=\"-96.8\" font-family=\"Times,serif\" font-size=\"14.00\">+</text>\n",
       "</g>\n",
       "<!-- 140250826515600+&#45;&gt;140250826515600 -->\n",
       "<g id=\"edge2\" class=\"edge\">\n",
       "<title>140250826515600+&#45;&gt;140250826515600</title>\n",
       "<path fill=\"none\" stroke=\"black\" d=\"M1967.47,-100.5C1974.67,-100.5 1982.92,-100.5 1991.69,-100.5\"/>\n",
       "<polygon fill=\"black\" stroke=\"black\" points=\"1991.51,-104 2001.51,-100.5 1991.51,-97 1991.51,-104\"/>\n",
       "</g>\n",
       "<!-- 140249485537488 -->\n",
       "<g id=\"node7\" class=\"node\">\n",
       "<title>140249485537488</title>\n",
       "<polygon fill=\"none\" stroke=\"black\" points=\"1072.5,-28.5 1072.5,-64.5 1254.5,-64.5 1254.5,-28.5 1072.5,-28.5\"/>\n",
       "<text text-anchor=\"middle\" x=\"1082.5\" y=\"-42.8\" font-family=\"Times,serif\" font-size=\"14.00\"> </text>\n",
       "<polyline fill=\"none\" stroke=\"black\" points=\"1092.5,-28.5 1092.5,-64.5\"/>\n",
       "<text text-anchor=\"middle\" x=\"1132.5\" y=\"-42.8\" font-family=\"Times,serif\" font-size=\"14.00\">data 2.0000</text>\n",
       "<polyline fill=\"none\" stroke=\"black\" points=\"1172.5,-28.5 1172.5,-64.5\"/>\n",
       "<text text-anchor=\"middle\" x=\"1213.5\" y=\"-42.8\" font-family=\"Times,serif\" font-size=\"14.00\">grad 0.2203</text>\n",
       "</g>\n",
       "<!-- 140249485540800* -->\n",
       "<g id=\"node25\" class=\"node\">\n",
       "<title>140249485540800*</title>\n",
       "<ellipse fill=\"none\" stroke=\"black\" cx=\"1319\" cy=\"-73.5\" rx=\"27\" ry=\"18\"/>\n",
       "<text text-anchor=\"middle\" x=\"1319\" y=\"-69.8\" font-family=\"Times,serif\" font-size=\"14.00\">*</text>\n",
       "</g>\n",
       "<!-- 140249485537488&#45;&gt;140249485540800* -->\n",
       "<g id=\"edge26\" class=\"edge\">\n",
       "<title>140249485537488&#45;&gt;140249485540800*</title>\n",
       "<path fill=\"none\" stroke=\"black\" d=\"M1254.24,-62.28C1263.78,-63.96 1273.05,-65.59 1281.42,-67.07\"/>\n",
       "<polygon fill=\"black\" stroke=\"black\" points=\"1280.67,-70.49 1291.12,-68.77 1281.88,-63.59 1280.67,-70.49\"/>\n",
       "</g>\n",
       "<!-- 140249485538016 -->\n",
       "<g id=\"node8\" class=\"node\">\n",
       "<title>140249485538016</title>\n",
       "<polygon fill=\"none\" stroke=\"black\" points=\"2225,-27.5 2225,-63.5 2407,-63.5 2407,-27.5 2225,-27.5\"/>\n",
       "<text text-anchor=\"middle\" x=\"2235\" y=\"-41.8\" font-family=\"Times,serif\" font-size=\"14.00\"> </text>\n",
       "<polyline fill=\"none\" stroke=\"black\" points=\"2245,-27.5 2245,-63.5\"/>\n",
       "<text text-anchor=\"middle\" x=\"2285\" y=\"-41.8\" font-family=\"Times,serif\" font-size=\"14.00\">data 4.8284</text>\n",
       "<polyline fill=\"none\" stroke=\"black\" points=\"2325,-27.5 2325,-63.5\"/>\n",
       "<text text-anchor=\"middle\" x=\"2366\" y=\"-41.8\" font-family=\"Times,serif\" font-size=\"14.00\">grad 0.1464</text>\n",
       "</g>\n",
       "<!-- 140249487761216* -->\n",
       "<g id=\"node18\" class=\"node\">\n",
       "<title>140249487761216*</title>\n",
       "<ellipse fill=\"none\" stroke=\"black\" cx=\"2688\" cy=\"-72.5\" rx=\"27\" ry=\"18\"/>\n",
       "<text text-anchor=\"middle\" x=\"2688\" y=\"-68.8\" font-family=\"Times,serif\" font-size=\"14.00\">*</text>\n",
       "</g>\n",
       "<!-- 140249485538016&#45;&gt;140249487761216* -->\n",
       "<g id=\"edge22\" class=\"edge\">\n",
       "<title>140249485538016&#45;&gt;140249487761216*</title>\n",
       "<path fill=\"none\" stroke=\"black\" d=\"M2406.57,-52.04C2484.44,-57.72 2593.37,-65.67 2649.81,-69.79\"/>\n",
       "<polygon fill=\"black\" stroke=\"black\" points=\"2649.29,-73.26 2659.52,-70.49 2649.8,-66.28 2649.29,-73.26\"/>\n",
       "</g>\n",
       "<!-- 140249485538016+&#45;&gt;140249485538016 -->\n",
       "<g id=\"edge3\" class=\"edge\">\n",
       "<title>140249485538016+&#45;&gt;140249485538016</title>\n",
       "<path fill=\"none\" stroke=\"black\" d=\"M1967.3,-45.5C2017.69,-45.5 2130.25,-45.5 2213.73,-45.5\"/>\n",
       "<polygon fill=\"black\" stroke=\"black\" points=\"2213.53,-49 2223.53,-45.5 2213.53,-42 2213.53,-49\"/>\n",
       "</g>\n",
       "<!-- 140250551851760 -->\n",
       "<g id=\"node10\" class=\"node\">\n",
       "<title>140250551851760</title>\n",
       "<polygon fill=\"none\" stroke=\"black\" points=\"0,-84.5 0,-120.5 200,-120.5 200,-84.5 0,-84.5\"/>\n",
       "<text text-anchor=\"middle\" x=\"16.5\" y=\"-98.8\" font-family=\"Times,serif\" font-size=\"14.00\">w1</text>\n",
       "<polyline fill=\"none\" stroke=\"black\" points=\"33,-84.5 33,-120.5\"/>\n",
       "<text text-anchor=\"middle\" x=\"75.5\" y=\"-98.8\" font-family=\"Times,serif\" font-size=\"14.00\">data &#45;3.0000</text>\n",
       "<polyline fill=\"none\" stroke=\"black\" points=\"118,-84.5 118,-120.5\"/>\n",
       "<text text-anchor=\"middle\" x=\"159\" y=\"-98.8\" font-family=\"Times,serif\" font-size=\"14.00\">grad 1.0000</text>\n",
       "</g>\n",
       "<!-- 140250551851760&#45;&gt;140250550937248* -->\n",
       "<g id=\"edge27\" class=\"edge\">\n",
       "<title>140250551851760&#45;&gt;140250550937248*</title>\n",
       "<path fill=\"none\" stroke=\"black\" d=\"M199.75,-102.5C208.38,-102.5 216.71,-102.5 224.33,-102.5\"/>\n",
       "<polygon fill=\"black\" stroke=\"black\" points=\"224.12,-106 234.12,-102.5 224.12,-99 224.12,-106\"/>\n",
       "</g>\n",
       "<!-- 140249486000384 -->\n",
       "<g id=\"node11\" class=\"node\">\n",
       "<title>140249486000384</title>\n",
       "<polygon fill=\"none\" stroke=\"black\" points=\"2,-29.5 2,-65.5 198,-65.5 198,-29.5 2,-29.5\"/>\n",
       "<text text-anchor=\"middle\" x=\"17\" y=\"-43.8\" font-family=\"Times,serif\" font-size=\"14.00\">x1</text>\n",
       "<polyline fill=\"none\" stroke=\"black\" points=\"32,-29.5 32,-65.5\"/>\n",
       "<text text-anchor=\"middle\" x=\"72\" y=\"-43.8\" font-family=\"Times,serif\" font-size=\"14.00\">data 2.0000</text>\n",
       "<polyline fill=\"none\" stroke=\"black\" points=\"112,-29.5 112,-65.5\"/>\n",
       "<text text-anchor=\"middle\" x=\"155\" y=\"-43.8\" font-family=\"Times,serif\" font-size=\"14.00\">grad &#45;1.5000</text>\n",
       "</g>\n",
       "<!-- 140249486000384&#45;&gt;140250550937248* -->\n",
       "<g id=\"edge12\" class=\"edge\">\n",
       "<title>140249486000384&#45;&gt;140250550937248*</title>\n",
       "<path fill=\"none\" stroke=\"black\" d=\"M169.02,-65.42C179.47,-68.56 190.08,-71.95 200,-75.5 209.96,-79.06 220.59,-83.46 230.18,-87.66\"/>\n",
       "<polygon fill=\"black\" stroke=\"black\" points=\"228.54,-90.76 239.1,-91.66 231.4,-84.37 228.54,-90.76\"/>\n",
       "</g>\n",
       "<!-- 140249485538064 -->\n",
       "<g id=\"node12\" class=\"node\">\n",
       "<title>140249485538064</title>\n",
       "<polygon fill=\"none\" stroke=\"black\" points=\"1692.5,-55.5 1692.5,-91.5 1874.5,-91.5 1874.5,-55.5 1692.5,-55.5\"/>\n",
       "<text text-anchor=\"middle\" x=\"1702.5\" y=\"-69.8\" font-family=\"Times,serif\" font-size=\"14.00\"> </text>\n",
       "<polyline fill=\"none\" stroke=\"black\" points=\"1712.5,-55.5 1712.5,-91.5\"/>\n",
       "<text text-anchor=\"middle\" x=\"1752.5\" y=\"-69.8\" font-family=\"Times,serif\" font-size=\"14.00\">data 5.8284</text>\n",
       "<polyline fill=\"none\" stroke=\"black\" points=\"1792.5,-55.5 1792.5,-91.5\"/>\n",
       "<text text-anchor=\"middle\" x=\"1833.5\" y=\"-69.8\" font-family=\"Times,serif\" font-size=\"14.00\">grad 0.0429</text>\n",
       "</g>\n",
       "<!-- 140249485538064&#45;&gt;140250826515600+ -->\n",
       "<g id=\"edge28\" class=\"edge\">\n",
       "<title>140249485538064&#45;&gt;140250826515600+</title>\n",
       "<path fill=\"none\" stroke=\"black\" d=\"M1874.37,-89.21C1884.23,-90.93 1893.81,-92.6 1902.44,-94.11\"/>\n",
       "<polygon fill=\"black\" stroke=\"black\" points=\"1901.61,-97.52 1912.06,-95.79 1902.81,-90.62 1901.61,-97.52\"/>\n",
       "</g>\n",
       "<!-- 140249485538064&#45;&gt;140249485538016+ -->\n",
       "<g id=\"edge16\" class=\"edge\">\n",
       "<title>140249485538064&#45;&gt;140249485538016+</title>\n",
       "<path fill=\"none\" stroke=\"black\" d=\"M1874.37,-57.21C1884.23,-55.43 1893.81,-53.69 1902.44,-52.13\"/>\n",
       "<polygon fill=\"black\" stroke=\"black\" points=\"1902.85,-55.61 1912.06,-50.38 1901.6,-48.72 1902.85,-55.61\"/>\n",
       "</g>\n",
       "<!-- 140249485538064exp -->\n",
       "<g id=\"node13\" class=\"node\">\n",
       "<title>140249485538064exp</title>\n",
       "<ellipse fill=\"none\" stroke=\"black\" cx=\"1627\" cy=\"-73.5\" rx=\"27\" ry=\"18\"/>\n",
       "<text text-anchor=\"middle\" x=\"1627\" y=\"-69.8\" font-family=\"Times,serif\" font-size=\"14.00\">exp</text>\n",
       "</g>\n",
       "<!-- 140249485538064exp&#45;&gt;140249485538064 -->\n",
       "<g id=\"edge4\" class=\"edge\">\n",
       "<title>140249485538064exp&#45;&gt;140249485538064</title>\n",
       "<path fill=\"none\" stroke=\"black\" d=\"M1654.21,-73.5C1662.15,-73.5 1671.4,-73.5 1681.22,-73.5\"/>\n",
       "<polygon fill=\"black\" stroke=\"black\" points=\"1681.01,-77 1691.01,-73.5 1681.01,-70 1681.01,-77\"/>\n",
       "</g>\n",
       "<!-- 140250826514688 -->\n",
       "<g id=\"node14\" class=\"node\">\n",
       "<title>140250826514688</title>\n",
       "<polygon fill=\"none\" stroke=\"black\" points=\"1690.5,-110.5 1690.5,-146.5 1876.5,-146.5 1876.5,-110.5 1690.5,-110.5\"/>\n",
       "<text text-anchor=\"middle\" x=\"1700.5\" y=\"-124.8\" font-family=\"Times,serif\" font-size=\"14.00\"> </text>\n",
       "<polyline fill=\"none\" stroke=\"black\" points=\"1710.5,-110.5 1710.5,-146.5\"/>\n",
       "<text text-anchor=\"middle\" x=\"1750.5\" y=\"-124.8\" font-family=\"Times,serif\" font-size=\"14.00\">data 1.0000</text>\n",
       "<polyline fill=\"none\" stroke=\"black\" points=\"1790.5,-110.5 1790.5,-146.5\"/>\n",
       "<text text-anchor=\"middle\" x=\"1833.5\" y=\"-124.8\" font-family=\"Times,serif\" font-size=\"14.00\">grad &#45;0.1036</text>\n",
       "</g>\n",
       "<!-- 140250826514688&#45;&gt;140250826515600+ -->\n",
       "<g id=\"edge20\" class=\"edge\">\n",
       "<title>140250826514688&#45;&gt;140250826515600+</title>\n",
       "<path fill=\"none\" stroke=\"black\" d=\"M1876.16,-111.89C1885.33,-110.23 1894.21,-108.62 1902.28,-107.15\"/>\n",
       "<polygon fill=\"black\" stroke=\"black\" points=\"1902.74,-110.63 1911.95,-105.4 1901.49,-103.74 1902.74,-110.63\"/>\n",
       "</g>\n",
       "<!-- 140249485537584 -->\n",
       "<g id=\"node15\" class=\"node\">\n",
       "<title>140249485537584</title>\n",
       "<polygon fill=\"none\" stroke=\"black\" points=\"328.5,-139.5 328.5,-175.5 543.5,-175.5 543.5,-139.5 328.5,-139.5\"/>\n",
       "<text text-anchor=\"middle\" x=\"355\" y=\"-153.8\" font-family=\"Times,serif\" font-size=\"14.00\">x2*w2</text>\n",
       "<polyline fill=\"none\" stroke=\"black\" points=\"381.5,-139.5 381.5,-175.5\"/>\n",
       "<text text-anchor=\"middle\" x=\"421.5\" y=\"-153.8\" font-family=\"Times,serif\" font-size=\"14.00\">data 0.0000</text>\n",
       "<polyline fill=\"none\" stroke=\"black\" points=\"461.5,-139.5 461.5,-175.5\"/>\n",
       "<text text-anchor=\"middle\" x=\"502.5\" y=\"-153.8\" font-family=\"Times,serif\" font-size=\"14.00\">grad 0.5000</text>\n",
       "</g>\n",
       "<!-- 140249485537584&#45;&gt;140249485540272+ -->\n",
       "<g id=\"edge11\" class=\"edge\">\n",
       "<title>140249485537584&#45;&gt;140249485540272+</title>\n",
       "<path fill=\"none\" stroke=\"black\" d=\"M543.35,-140.09C553.14,-138.48 562.54,-136.94 570.99,-135.56\"/>\n",
       "<polygon fill=\"black\" stroke=\"black\" points=\"571.46,-139.03 580.76,-133.96 570.33,-132.12 571.46,-139.03\"/>\n",
       "</g>\n",
       "<!-- 140249485537584*&#45;&gt;140249485537584 -->\n",
       "<g id=\"edge5\" class=\"edge\">\n",
       "<title>140249485537584*&#45;&gt;140249485537584</title>\n",
       "<path fill=\"none\" stroke=\"black\" d=\"M290.34,-157.5C298.24,-157.5 307.46,-157.5 317.34,-157.5\"/>\n",
       "<polygon fill=\"black\" stroke=\"black\" points=\"317.24,-161 327.24,-157.5 317.24,-154 317.24,-161\"/>\n",
       "</g>\n",
       "<!-- 140249487761216 -->\n",
       "<g id=\"node17\" class=\"node\">\n",
       "<title>140249487761216</title>\n",
       "<polygon fill=\"none\" stroke=\"black\" points=\"2751,-54.5 2751,-90.5 2936,-90.5 2936,-54.5 2751,-54.5\"/>\n",
       "<text text-anchor=\"middle\" x=\"2762.5\" y=\"-68.8\" font-family=\"Times,serif\" font-size=\"14.00\">o</text>\n",
       "<polyline fill=\"none\" stroke=\"black\" points=\"2774,-54.5 2774,-90.5\"/>\n",
       "<text text-anchor=\"middle\" x=\"2814\" y=\"-68.8\" font-family=\"Times,serif\" font-size=\"14.00\">data 0.7071</text>\n",
       "<polyline fill=\"none\" stroke=\"black\" points=\"2854,-54.5 2854,-90.5\"/>\n",
       "<text text-anchor=\"middle\" x=\"2895\" y=\"-68.8\" font-family=\"Times,serif\" font-size=\"14.00\">grad 1.0000</text>\n",
       "</g>\n",
       "<!-- 140249487761216*&#45;&gt;140249487761216 -->\n",
       "<g id=\"edge6\" class=\"edge\">\n",
       "<title>140249487761216*&#45;&gt;140249487761216</title>\n",
       "<path fill=\"none\" stroke=\"black\" d=\"M2715.39,-72.5C2722.62,-72.5 2730.92,-72.5 2739.74,-72.5\"/>\n",
       "<polygon fill=\"black\" stroke=\"black\" points=\"2739.64,-76 2749.64,-72.5 2739.64,-69 2739.64,-76\"/>\n",
       "</g>\n",
       "<!-- 140250551850320 -->\n",
       "<g id=\"node19\" class=\"node\">\n",
       "<title>140250551850320</title>\n",
       "<polygon fill=\"none\" stroke=\"black\" points=\"716,-56.5 716,-92.5 901,-92.5 901,-56.5 716,-56.5\"/>\n",
       "<text text-anchor=\"middle\" x=\"727.5\" y=\"-70.8\" font-family=\"Times,serif\" font-size=\"14.00\">b</text>\n",
       "<polyline fill=\"none\" stroke=\"black\" points=\"739,-56.5 739,-92.5\"/>\n",
       "<text text-anchor=\"middle\" x=\"779\" y=\"-70.8\" font-family=\"Times,serif\" font-size=\"14.00\">data 6.8814</text>\n",
       "<polyline fill=\"none\" stroke=\"black\" points=\"819,-56.5 819,-92.5\"/>\n",
       "<text text-anchor=\"middle\" x=\"860\" y=\"-70.8\" font-family=\"Times,serif\" font-size=\"14.00\">grad 0.5000</text>\n",
       "</g>\n",
       "<!-- 140249485539792+ -->\n",
       "<g id=\"node27\" class=\"node\">\n",
       "<title>140249485539792+</title>\n",
       "<ellipse fill=\"none\" stroke=\"black\" cx=\"1008\" cy=\"-101.5\" rx=\"27\" ry=\"18\"/>\n",
       "<text text-anchor=\"middle\" x=\"1008\" y=\"-97.8\" font-family=\"Times,serif\" font-size=\"14.00\">+</text>\n",
       "</g>\n",
       "<!-- 140250551850320&#45;&gt;140249485539792+ -->\n",
       "<g id=\"edge15\" class=\"edge\">\n",
       "<title>140250551850320&#45;&gt;140249485539792+</title>\n",
       "<path fill=\"none\" stroke=\"black\" d=\"M900.73,-86.97C925.29,-90.33 950.47,-93.77 970.15,-96.46\"/>\n",
       "<polygon fill=\"black\" stroke=\"black\" points=\"969.47,-99.9 979.85,-97.79 970.41,-92.97 969.47,-99.9\"/>\n",
       "</g>\n",
       "<!-- 140250826514784 -->\n",
       "<g id=\"node20\" class=\"node\">\n",
       "<title>140250826514784</title>\n",
       "<polygon fill=\"none\" stroke=\"black\" points=\"2443,-80.5 2443,-116.5 2625,-116.5 2625,-80.5 2443,-80.5\"/>\n",
       "<text text-anchor=\"middle\" x=\"2453\" y=\"-94.8\" font-family=\"Times,serif\" font-size=\"14.00\"> </text>\n",
       "<polyline fill=\"none\" stroke=\"black\" points=\"2463,-80.5 2463,-116.5\"/>\n",
       "<text text-anchor=\"middle\" x=\"2503\" y=\"-94.8\" font-family=\"Times,serif\" font-size=\"14.00\">data 0.1464</text>\n",
       "<polyline fill=\"none\" stroke=\"black\" points=\"2543,-80.5 2543,-116.5\"/>\n",
       "<text text-anchor=\"middle\" x=\"2584\" y=\"-94.8\" font-family=\"Times,serif\" font-size=\"14.00\">grad 4.8284</text>\n",
       "</g>\n",
       "<!-- 140250826514784&#45;&gt;140249487761216* -->\n",
       "<g id=\"edge17\" class=\"edge\">\n",
       "<title>140250826514784&#45;&gt;140249487761216*</title>\n",
       "<path fill=\"none\" stroke=\"black\" d=\"M2624.74,-83.15C2633.62,-81.63 2642.23,-80.16 2650.09,-78.81\"/>\n",
       "<polygon fill=\"black\" stroke=\"black\" points=\"2650.6,-82.28 2659.86,-77.14 2649.42,-75.38 2650.6,-82.28\"/>\n",
       "</g>\n",
       "<!-- 140250826514784**&#45;1&#45;&gt;140250826514784 -->\n",
       "<g id=\"edge7\" class=\"edge\">\n",
       "<title>140250826514784**&#45;1&#45;&gt;140250826514784</title>\n",
       "<path fill=\"none\" stroke=\"black\" d=\"M2343.49,-100.25C2365.76,-100.05 2399.08,-99.74 2431.61,-99.44\"/>\n",
       "<polygon fill=\"black\" stroke=\"black\" points=\"2431.58,-102.94 2441.54,-99.35 2431.51,-95.94 2431.58,-102.94\"/>\n",
       "</g>\n",
       "<!-- 140249485540272 -->\n",
       "<g id=\"node22\" class=\"node\">\n",
       "<title>140249485540272</title>\n",
       "<polygon fill=\"none\" stroke=\"black\" points=\"672,-111.5 672,-147.5 945,-147.5 945,-111.5 672,-111.5\"/>\n",
       "<text text-anchor=\"middle\" x=\"725\" y=\"-125.8\" font-family=\"Times,serif\" font-size=\"14.00\">x1*w1 + x2*w2</text>\n",
       "<polyline fill=\"none\" stroke=\"black\" points=\"778,-111.5 778,-147.5\"/>\n",
       "<text text-anchor=\"middle\" x=\"820.5\" y=\"-125.8\" font-family=\"Times,serif\" font-size=\"14.00\">data &#45;6.0000</text>\n",
       "<polyline fill=\"none\" stroke=\"black\" points=\"863,-111.5 863,-147.5\"/>\n",
       "<text text-anchor=\"middle\" x=\"904\" y=\"-125.8\" font-family=\"Times,serif\" font-size=\"14.00\">grad 0.5000</text>\n",
       "</g>\n",
       "<!-- 140249485540272&#45;&gt;140249485539792+ -->\n",
       "<g id=\"edge25\" class=\"edge\">\n",
       "<title>140249485540272&#45;&gt;140249485539792+</title>\n",
       "<path fill=\"none\" stroke=\"black\" d=\"M936.26,-111.53C948.46,-109.8 960.04,-108.16 970.16,-106.72\"/>\n",
       "<polygon fill=\"black\" stroke=\"black\" points=\"970.42,-110.22 979.83,-105.35 969.44,-103.29 970.42,-110.22\"/>\n",
       "</g>\n",
       "<!-- 140249485540272+&#45;&gt;140249485540272 -->\n",
       "<g id=\"edge8\" class=\"edge\">\n",
       "<title>140249485540272+&#45;&gt;140249485540272</title>\n",
       "<path fill=\"none\" stroke=\"black\" d=\"M636.23,-129.5C643.46,-129.5 651.86,-129.5 660.97,-129.5\"/>\n",
       "<polygon fill=\"black\" stroke=\"black\" points=\"660.89,-133 670.89,-129.5 660.89,-126 660.89,-133\"/>\n",
       "</g>\n",
       "<!-- 140249485540800 -->\n",
       "<g id=\"node24\" class=\"node\">\n",
       "<title>140249485540800</title>\n",
       "<polygon fill=\"none\" stroke=\"black\" points=\"1382,-55.5 1382,-91.5 1564,-91.5 1564,-55.5 1382,-55.5\"/>\n",
       "<text text-anchor=\"middle\" x=\"1392\" y=\"-69.8\" font-family=\"Times,serif\" font-size=\"14.00\"> </text>\n",
       "<polyline fill=\"none\" stroke=\"black\" points=\"1402,-55.5 1402,-91.5\"/>\n",
       "<text text-anchor=\"middle\" x=\"1442\" y=\"-69.8\" font-family=\"Times,serif\" font-size=\"14.00\">data 1.7627</text>\n",
       "<polyline fill=\"none\" stroke=\"black\" points=\"1482,-55.5 1482,-91.5\"/>\n",
       "<text text-anchor=\"middle\" x=\"1523\" y=\"-69.8\" font-family=\"Times,serif\" font-size=\"14.00\">grad 0.2500</text>\n",
       "</g>\n",
       "<!-- 140249485540800&#45;&gt;140249485538064exp -->\n",
       "<g id=\"edge19\" class=\"edge\">\n",
       "<title>140249485540800&#45;&gt;140249485538064exp</title>\n",
       "<path fill=\"none\" stroke=\"black\" d=\"M1563.74,-73.5C1572.34,-73.5 1580.7,-73.5 1588.36,-73.5\"/>\n",
       "<polygon fill=\"black\" stroke=\"black\" points=\"1588.24,-77 1598.24,-73.5 1588.24,-70 1588.24,-77\"/>\n",
       "</g>\n",
       "<!-- 140249485540800*&#45;&gt;140249485540800 -->\n",
       "<g id=\"edge9\" class=\"edge\">\n",
       "<title>140249485540800*&#45;&gt;140249485540800</title>\n",
       "<path fill=\"none\" stroke=\"black\" d=\"M1346.48,-73.5C1353.71,-73.5 1362.01,-73.5 1370.82,-73.5\"/>\n",
       "<polygon fill=\"black\" stroke=\"black\" points=\"1370.69,-77 1380.69,-73.5 1370.69,-70 1370.69,-77\"/>\n",
       "</g>\n",
       "<!-- 140249485539792 -->\n",
       "<g id=\"node26\" class=\"node\">\n",
       "<title>140249485539792</title>\n",
       "<polygon fill=\"none\" stroke=\"black\" points=\"1071,-83.5 1071,-119.5 1256,-119.5 1256,-83.5 1071,-83.5\"/>\n",
       "<text text-anchor=\"middle\" x=\"1082.5\" y=\"-97.8\" font-family=\"Times,serif\" font-size=\"14.00\">n</text>\n",
       "<polyline fill=\"none\" stroke=\"black\" points=\"1094,-83.5 1094,-119.5\"/>\n",
       "<text text-anchor=\"middle\" x=\"1134\" y=\"-97.8\" font-family=\"Times,serif\" font-size=\"14.00\">data 0.8814</text>\n",
       "<polyline fill=\"none\" stroke=\"black\" points=\"1174,-83.5 1174,-119.5\"/>\n",
       "<text text-anchor=\"middle\" x=\"1215\" y=\"-97.8\" font-family=\"Times,serif\" font-size=\"14.00\">grad 0.5000</text>\n",
       "</g>\n",
       "<!-- 140249485539792&#45;&gt;140249485540800* -->\n",
       "<g id=\"edge23\" class=\"edge\">\n",
       "<title>140249485539792&#45;&gt;140249485540800*</title>\n",
       "<path fill=\"none\" stroke=\"black\" d=\"M1255.57,-84.89C1264.67,-83.23 1273.5,-81.62 1281.52,-80.15\"/>\n",
       "<polygon fill=\"black\" stroke=\"black\" points=\"1281.91,-83.64 1291.12,-78.4 1280.65,-76.75 1281.91,-83.64\"/>\n",
       "</g>\n",
       "<!-- 140249485539792+&#45;&gt;140249485539792 -->\n",
       "<g id=\"edge10\" class=\"edge\">\n",
       "<title>140249485539792+&#45;&gt;140249485539792</title>\n",
       "<path fill=\"none\" stroke=\"black\" d=\"M1035.39,-101.5C1042.62,-101.5 1050.92,-101.5 1059.74,-101.5\"/>\n",
       "<polygon fill=\"black\" stroke=\"black\" points=\"1059.64,-105 1069.64,-101.5 1059.64,-98 1059.64,-105\"/>\n",
       "</g>\n",
       "<!-- 140249486000624 -->\n",
       "<g id=\"node28\" class=\"node\">\n",
       "<title>140249486000624</title>\n",
       "<polygon fill=\"none\" stroke=\"black\" points=\"2.5,-139.5 2.5,-175.5 197.5,-175.5 197.5,-139.5 2.5,-139.5\"/>\n",
       "<text text-anchor=\"middle\" x=\"19\" y=\"-153.8\" font-family=\"Times,serif\" font-size=\"14.00\">w2</text>\n",
       "<polyline fill=\"none\" stroke=\"black\" points=\"35.5,-139.5 35.5,-175.5\"/>\n",
       "<text text-anchor=\"middle\" x=\"75.5\" y=\"-153.8\" font-family=\"Times,serif\" font-size=\"14.00\">data 1.0000</text>\n",
       "<polyline fill=\"none\" stroke=\"black\" points=\"115.5,-139.5 115.5,-175.5\"/>\n",
       "<text text-anchor=\"middle\" x=\"156.5\" y=\"-153.8\" font-family=\"Times,serif\" font-size=\"14.00\">grad 0.0000</text>\n",
       "</g>\n",
       "<!-- 140249486000624&#45;&gt;140249485537584* -->\n",
       "<g id=\"edge24\" class=\"edge\">\n",
       "<title>140249486000624&#45;&gt;140249485537584*</title>\n",
       "<path fill=\"none\" stroke=\"black\" d=\"M197.44,-157.5C206.89,-157.5 216.04,-157.5 224.32,-157.5\"/>\n",
       "<polygon fill=\"black\" stroke=\"black\" points=\"224.28,-161 234.28,-157.5 224.28,-154 224.28,-161\"/>\n",
       "</g>\n",
       "</g>\n",
       "</svg>\n"
      ],
      "text/plain": [
       "<graphviz.graphs.Digraph at 0x7f8e60c3f370>"
      ]
     },
     "execution_count": 195,
     "metadata": {},
     "output_type": "execute_result"
    }
   ],
   "source": [
    "x1 = Value(2.0, label='x1')\n",
    "x2 = Value(0.0, label='x2')\n",
    "w1 = Value(-3.0, label='w1')\n",
    "w2 = Value(1.0, label='w2')\n",
    "b = Value(6.8813735870195432, label='b')\n",
    "\n",
    "x1w1 = x1*w1; x1w1.label = 'x1*w1'\n",
    "x2w2 = x2*w2; x2w2.label = 'x2*w2'\n",
    "x1w1x2w2 = x1w1 + x2w2; x1w1x2w2.label = 'x1*w1 + x2*w2'\n",
    "n = x1w1x2w2 + b; n.label = 'n'\n",
    "# ----\n",
    "e = (2*n).exp()\n",
    "o = (e - 1) / (e + 1)\n",
    "# ----\n",
    "o.label = 'o'\n",
    "o.backward()\n",
    "draw_dot(o)"
   ]
  },
  {
   "cell_type": "code",
   "execution_count": 197,
   "id": "99a33893-15fe-4c66-8a0c-7878366dd03d",
   "metadata": {
    "tags": []
   },
   "outputs": [],
   "source": [
    "import torch"
   ]
  },
  {
   "cell_type": "code",
   "execution_count": 199,
   "id": "3049d52f-e4b5-40a3-848e-27d6f6cebdfa",
   "metadata": {
    "tags": []
   },
   "outputs": [
    {
     "name": "stdout",
     "output_type": "stream",
     "text": [
      "0.7071066904050358\n",
      "----\n",
      "x2 0.5000001283844369\n",
      "x1 -1.5000003851533106\n",
      "w2 0.0\n",
      "w1 1.0000002567688737\n"
     ]
    }
   ],
   "source": [
    "x1 = torch.Tensor([2.0]).double() ; x1.requires_grad = True\n",
    "x2 = torch.Tensor([0.0]).double() ; x2.requires_grad = True\n",
    "w1 = torch.Tensor([-3.0]).double() ; w1.requires_grad = True\n",
    "w2 = torch.Tensor([1.0]).double() ; w2.requires_grad = True\n",
    "b = torch.Tensor([6.8813735870195432]).double() ; b.requires_grad = True\n",
    "n = x1*w1 + x2*w2 + b\n",
    "o = torch.tanh(n)\n",
    "\n",
    "print(o.data.item())\n",
    "o.backward()\n",
    "\n",
    "print('----')\n",
    "print('x2', x2.grad.item())\n",
    "print('x1', x1.grad.item())\n",
    "print('w2', w2.grad.item())\n",
    "print('w1', w1.grad.item())"
   ]
  },
  {
   "cell_type": "code",
   "execution_count": 200,
   "id": "8fd1f431-eafa-468a-8527-b96310f89ae2",
   "metadata": {
    "tags": []
   },
   "outputs": [
    {
     "data": {
      "text/plain": [
       "tensor([0.7071], dtype=torch.float64, grad_fn=<TanhBackward0>)"
      ]
     },
     "execution_count": 200,
     "metadata": {},
     "output_type": "execute_result"
    }
   ],
   "source": [
    "o"
   ]
  },
  {
   "cell_type": "code",
   "execution_count": 201,
   "id": "e4890b50-572b-4da1-9bcc-3ab6b9620468",
   "metadata": {
    "tags": []
   },
   "outputs": [
    {
     "data": {
      "text/plain": [
       "0.7071066904050358"
      ]
     },
     "execution_count": 201,
     "metadata": {},
     "output_type": "execute_result"
    }
   ],
   "source": [
    "o.item()"
   ]
  },
  {
   "cell_type": "code",
   "execution_count": 202,
   "id": "e1bec3cc-15ec-4fca-8cb1-c9b2ee770d8c",
   "metadata": {
    "tags": []
   },
   "outputs": [
    {
     "data": {
      "text/plain": [
       "0.5000001283844369"
      ]
     },
     "execution_count": 202,
     "metadata": {},
     "output_type": "execute_result"
    }
   ],
   "source": [
    "x2.grad.item()\n"
   ]
  },
  {
   "cell_type": "code",
   "execution_count": 203,
   "id": "c0e74ee1-8ff7-4c7d-8d1e-992641f180c0",
   "metadata": {
    "tags": []
   },
   "outputs": [
    {
     "data": {
      "text/plain": [
       "tensor([0.], dtype=torch.float64, requires_grad=True)"
      ]
     },
     "execution_count": 203,
     "metadata": {},
     "output_type": "execute_result"
    }
   ],
   "source": [
    "x2"
   ]
  },
  {
   "cell_type": "code",
   "execution_count": 248,
   "id": "1a36062f-3cc2-44fd-bb35-594a549066c0",
   "metadata": {
    "tags": []
   },
   "outputs": [
    {
     "data": {
      "text/plain": [
       "Value(data=0.8445482506979523)"
      ]
     },
     "execution_count": 248,
     "metadata": {},
     "output_type": "execute_result"
    }
   ],
   "source": [
    "import random\n",
    "\n",
    "class Neuron:\n",
    "    def __init__(self, nin):\n",
    "        self.w = [Value(random.uniform(-1, 1)) for _ in range(nin)]\n",
    "        self.b = Value(random.uniform(-1, 1))\n",
    "        \n",
    "    def __call__(self, x):\n",
    "        # w * x + b\n",
    "        act = sum(wi * xi for wi, xi in zip(self.w, x)) + self.b\n",
    "        out = act.tanh()\n",
    "        return out\n",
    "    \n",
    "    def parameters(self):\n",
    "        return self.w + [self.b]\n",
    "    \n",
    "    \n",
    "class Layer:\n",
    "    def __init__(self, nin, nout):\n",
    "        self.neurons = [Neuron(nin) for _ in range(nout)]\n",
    "        \n",
    "    def __call__(self, x):\n",
    "        outs = [n(x) for n in self.neurons]\n",
    "        return outs[0] if len(outs) == 1 else outs\n",
    "    \n",
    "    def parameters(self):\n",
    "        params = []\n",
    "        for n in self.neurons:\n",
    "            params += n.parameters()\n",
    "        return params\n",
    "    \n",
    "\n",
    "class MLP:\n",
    "    def __init__(self, nin, nouts):\n",
    "        sz = [nin] + nouts\n",
    "        self.layers = [Layer(sz[i], sz[i+1]) for i in range(len(nouts))]\n",
    "        \n",
    "    def __call__(self, x):\n",
    "        for layer in self.layers:\n",
    "            x = layer(x)\n",
    "        return x\n",
    "    \n",
    "    def parameters(self):\n",
    "        params = []\n",
    "        for l in self.layers:\n",
    "            params += l.parameters()\n",
    "        return params\n",
    "\n",
    "x = [2.0, 3.0, -1]\n",
    "n = MLP(3, [4, 4, 1])\n",
    "n(x)"
   ]
  },
  {
   "cell_type": "code",
   "execution_count": null,
   "id": "efe23021-819e-4519-8864-f3b23ceb5fff",
   "metadata": {
    "tags": []
   },
   "outputs": [],
   "source": [
    "n.parameters()"
   ]
  },
  {
   "cell_type": "code",
   "execution_count": 299,
   "id": "ada2e4e8-3364-42be-98ee-0edfbe6164fe",
   "metadata": {
    "tags": []
   },
   "outputs": [
    {
     "data": {
      "text/plain": [
       "[Value(data=-0.9986152228137717),\n",
       " Value(data=-0.9985962859844548),\n",
       " Value(data=-0.9985658822753803),\n",
       " Value(data=-0.9986152779105344)]"
      ]
     },
     "execution_count": 299,
     "metadata": {},
     "output_type": "execute_result"
    }
   ],
   "source": [
    "xs = [\n",
    "    [2.0, 3.0, -1.0],\n",
    "    [3.0, -1.0, 0.5],\n",
    "    [0.5, 1.0, 1.0],\n",
    "    [1.0, 1.0, -1.0],]\n",
    "\n",
    "ys = [1,0, -1.0, -1.0, 1.0]\n",
    "\n",
    "ypred = [n(x) for x in xs]\n",
    "ypred"
   ]
  },
  {
   "cell_type": "code",
   "execution_count": 251,
   "id": "4f74031e-69ca-4862-9a35-5e958edb0c0c",
   "metadata": {
    "tags": []
   },
   "outputs": [],
   "source": [
    "loss = sum((yout - ygt)**2 for ygt, yout in zip(ys, ypred))"
   ]
  },
  {
   "cell_type": "code",
   "execution_count": 252,
   "id": "237cbe77-7f80-4624-b262-124a3af638ba",
   "metadata": {
    "tags": []
   },
   "outputs": [
    {
     "data": {
      "text/plain": [
       "Value(data=6.979241878447911)"
      ]
     },
     "execution_count": 252,
     "metadata": {},
     "output_type": "execute_result"
    }
   ],
   "source": [
    "loss"
   ]
  },
  {
   "cell_type": "code",
   "execution_count": 311,
   "id": "716fbfb1-5779-4fc2-ab4d-e0ca417451d4",
   "metadata": {
    "tags": []
   },
   "outputs": [
    {
     "data": {
      "text/plain": [
       "[Value(data=-0.9999978732039243),\n",
       " Value(data=-0.9999978060380326),\n",
       " Value(data=-0.9999978995367392),\n",
       " Value(data=-0.9999979003372318)]"
      ]
     },
     "execution_count": 311,
     "metadata": {},
     "output_type": "execute_result"
    }
   ],
   "source": [
    "ypred = [n(x) for x in xs]\n",
    "ypred"
   ]
  },
  {
   "cell_type": "code",
   "execution_count": 310,
   "id": "ea5f4570-81af-46a5-8ad0-4bf7d49b7815",
   "metadata": {
    "tags": []
   },
   "outputs": [
    {
     "data": {
      "text/plain": [
       "Value(data=4.999987104909919)"
      ]
     },
     "execution_count": 310,
     "metadata": {},
     "output_type": "execute_result"
    }
   ],
   "source": [
    "loss = sum((yout - ygt)**2 for ygt, yout in zip(ys, ypred))\n",
    "loss"
   ]
  },
  {
   "cell_type": "code",
   "execution_count": 258,
   "id": "1672afb6-6a17-424d-add5-93063c642b28",
   "metadata": {
    "tags": []
   },
   "outputs": [
    {
     "data": {
      "text/plain": [
       "-0.8682600696894949"
      ]
     },
     "execution_count": 258,
     "metadata": {},
     "output_type": "execute_result"
    }
   ],
   "source": [
    "n.layers[0].neurons[0].w[0].grad\n",
    "n.layers[0].neurons[0].w[0].data"
   ]
  },
  {
   "cell_type": "code",
   "execution_count": 309,
   "id": "6bdc93d1-9fc4-4315-aef7-02bd31fb7daf",
   "metadata": {
    "tags": []
   },
   "outputs": [],
   "source": [
    "loss.backward()\n",
    "for p in n.parameters():\n",
    "    p.data += -0.1 * p.grad"
   ]
  },
  {
   "cell_type": "code",
   "execution_count": null,
   "id": "23a97ac2-59f3-4858-b084-854ecc35b418",
   "metadata": {},
   "outputs": [],
   "source": []
  }
 ],
 "metadata": {
  "kernelspec": {
   "display_name": "Python 3 (ipykernel)",
   "language": "python",
   "name": "python3"
  },
  "language_info": {
   "codemirror_mode": {
    "name": "ipython",
    "version": 3
   },
   "file_extension": ".py",
   "mimetype": "text/x-python",
   "name": "python",
   "nbconvert_exporter": "python",
   "pygments_lexer": "ipython3",
   "version": "3.8.0"
  }
 },
 "nbformat": 4,
 "nbformat_minor": 5
}
